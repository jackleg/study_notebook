{
 "cells": [
  {
   "cell_type": "code",
   "execution_count": 1,
   "metadata": {
    "collapsed": false
   },
   "outputs": [
    {
     "ename": "NameError",
     "evalue": "name 'sqlContext' is not defined",
     "output_type": "error",
     "traceback": [
      "\u001b[1;31m---------------------------------------------------------------------------\u001b[0m",
      "\u001b[1;31mNameError\u001b[0m                                 Traceback (most recent call last)",
      "\u001b[1;32m<ipython-input-1-c6faa1768aed>\u001b[0m in \u001b[0;36m<module>\u001b[1;34m()\u001b[0m\n\u001b[1;32m----> 1\u001b[1;33m \u001b[0msitepop_df\u001b[0m \u001b[1;33m=\u001b[0m \u001b[0msqlContext\u001b[0m\u001b[1;33m.\u001b[0m\u001b[0mread\u001b[0m\u001b[1;33m.\u001b[0m\u001b[0mformat\u001b[0m\u001b[1;33m(\u001b[0m\u001b[1;34m'json'\u001b[0m\u001b[1;33m)\u001b[0m\u001b[1;33m.\u001b[0m\u001b[0mload\u001b[0m\u001b[1;33m(\u001b[0m\u001b[1;34m'/whistler/Type=Develop/Service=Image/dev=MO/Job=ServiceCtrByPos/bycollectionrank/2017-01-02'\u001b[0m\u001b[1;33m)\u001b[0m\u001b[1;33m\u001b[0m\u001b[0m\n\u001b[0m",
      "\u001b[1;31mNameError\u001b[0m: name 'sqlContext' is not defined"
     ]
    },
    {
     "name": "stdout",
     "output_type": "stream",
     "text": [
      "In [1] used 41.2031 MiB RAM in 0.39s, peaked 0.00 MiB above current, total RAM usage 133.51 MiB\n"
     ]
    }
   ],
   "source": [
    "sitepop_df = sqlContext.read.format('json').load('/whistler/Type=Develop/Service=Image/dev=MO/Job=ServiceCtrByPos/bycollectionrank/2017-01-02')"
   ]
  },
  {
   "cell_type": "code",
   "execution_count": 2,
   "metadata": {
    "collapsed": false
   },
   "outputs": [
    {
     "data": {
      "text/plain": [
       "[Row(Score=0.3571706069819749, URL=u'http://www.youtube.com/watch?v=vFgGFp0HP0k'),\n",
       " Row(Score=0.0529207693985916, URL=u'http://www.rpm9.com/news/article.html?id=20160629090044'),\n",
       " Row(Score=0.14534068429120714, URL=u'http://m.blog.naver.com/goeun7330'),\n",
       " Row(Score=0.20026379887071458, URL=u'http://www.sinkki79.com/'),\n",
       " Row(Score=0.11843129108474601, URL=u'http://finance.naver.com/item/main.nhn?code=031510'),\n",
       " Row(Score=0.16850914673198983, URL=u'http://www.megaagony.xyz:81/'),\n",
       " Row(Score=0.2216922742491229, URL=u'http://video.fc2.com/a/content/20150927FR2ADZe6'),\n",
       " Row(Score=0.16978535226166333, URL=u'http://www.slideshare.net/fmcommunications/report-of-2016-cannes-lions-winners-by-fm-communications'),\n",
       " Row(Score=0.0529207693985916, URL=u'http://m.storefarm.naver.com/songshop87/products/430993545'),\n",
       " Row(Score=0.21056288578161644, URL=u'http://band.us/n/a2a5r4s9wdw2X')]"
      ]
     },
     "execution_count": 2,
     "metadata": {},
     "output_type": "execute_result"
    },
    {
     "name": "stdout",
     "output_type": "stream",
     "text": [
      "In [2] used 0.3594 MiB RAM in 1.15s, peaked 0.00 MiB above current, total RAM usage 110.68 MiB\n"
     ]
    }
   ],
   "source": [
    "sitepop_df.take(10)"
   ]
  }
 ],
 "metadata": {
  "kernelspec": {
   "display_name": "pySpark",
   "language": "python",
   "name": "pyspark"
  },
  "language_info": {
   "codemirror_mode": {
    "name": "ipython",
    "version": 2
   },
   "file_extension": ".py",
   "mimetype": "text/x-python",
   "name": "python",
   "nbconvert_exporter": "python",
   "pygments_lexer": "ipython2",
   "version": "2.7.12"
  }
 },
 "nbformat": 4,
 "nbformat_minor": 0
}
