{
 "cells": [
  {
   "cell_type": "code",
   "execution_count": 1,
   "metadata": {},
   "outputs": [
    {
     "name": "stdout",
     "output_type": "stream",
     "text": [
      "In [1] used 18.3906 MiB RAM in 0.12s, peaked 0.00 MiB above current, total RAM usage 93.95 MiB\n"
     ]
    }
   ],
   "source": [
    "# sample document list\n",
    "doc_a = \"Brocolli is good to eat. My brother likes to eat good brocolli, but not my mother.\"\n",
    "doc_b = \"My mother spends a lot of time driving my brother around to baseball practice.\"\n",
    "doc_c = \"Some health experts suggest that driving may cause increased tension and blood pressure.\"\n",
    "doc_d = \"I often feel pressure to perform well at school, but my mother never seems to drive my brother to do better.\"\n",
    "doc_e = \"Health professionals say that brocolli is good for your health.\"\n",
    "\n",
    "# compile sample documents into a list\n",
    "doc_set = [doc_a, doc_b, doc_c, doc_d, doc_e]"
   ]
  },
  {
   "cell_type": "code",
   "execution_count": 3,
   "metadata": {},
   "outputs": [
    {
     "name": "stdout",
     "output_type": "stream",
     "text": [
      "In [3] used 0.0312 MiB RAM in 0.12s, peaked 0.00 MiB above current, total RAM usage 117.32 MiB\n"
     ]
    }
   ],
   "source": [
    "from nltk.tokenize import RegexpTokenizer\n",
    "from stop_words import get_stop_words\n",
    "from nltk.stem.porter import PorterStemmer\n",
    "\n",
    "tokenizer = RegexpTokenizer(r'\\w+')\n",
    "en_stop = get_stop_words('en')\n",
    "p_stemmer = PorterStemmer()\n",
    "texts = []\n",
    "\n",
    "for i in doc_set:\n",
    "    # tokenization\n",
    "    raw = i.lower()\n",
    "    tokens = tokenizer.tokenize(raw)\n",
    "\n",
    "    # stop words\n",
    "    stopped_tokens = [i for i in tokens if not i in en_stop]\n",
    "\n",
    "    # stem\n",
    "    stemmed_tokens = [p_stemmer.stem(i) for i in stopped_tokens]\n",
    "    texts.append(stemmed_tokens)\n"
   ]
  },
  {
   "cell_type": "code",
   "execution_count": 7,
   "metadata": {},
   "outputs": [
    {
     "name": "stdout",
     "output_type": "stream",
     "text": [
      "In [7] used 0.0547 MiB RAM in 0.11s, peaked 0.00 MiB above current, total RAM usage 140.13 MiB\n"
     ]
    }
   ],
   "source": [
    "# document-term matrix\n",
    "from gensim import corpora, models\n",
    "\n",
    "dictionary = corpora.Dictionary(texts)\n",
    "corpus = [dictionary.doc2bow(text) for text in texts]"
   ]
  },
  {
   "cell_type": "code",
   "execution_count": 8,
   "metadata": {},
   "outputs": [
    {
     "data": {
      "text/plain": [
       "[[(0, 2), (1, 1), (2, 2), (3, 2), (4, 1), (5, 1)],\n",
       " [(1, 1), (5, 1), (6, 1), (7, 1), (8, 1), (9, 1), (10, 1), (11, 1), (12, 1)],\n",
       " [(8, 1),\n",
       "  (13, 1),\n",
       "  (14, 1),\n",
       "  (15, 1),\n",
       "  (16, 1),\n",
       "  (17, 1),\n",
       "  (18, 1),\n",
       "  (19, 1),\n",
       "  (20, 1),\n",
       "  (21, 1)],\n",
       " [(1, 1),\n",
       "  (5, 1),\n",
       "  (8, 1),\n",
       "  (19, 1),\n",
       "  (22, 1),\n",
       "  (23, 1),\n",
       "  (24, 1),\n",
       "  (25, 1),\n",
       "  (26, 1),\n",
       "  (27, 1),\n",
       "  (28, 1),\n",
       "  (29, 1)],\n",
       " [(0, 1), (3, 1), (16, 2), (30, 1), (31, 1)]]"
      ]
     },
     "execution_count": 8,
     "metadata": {},
     "output_type": "execute_result"
    },
    {
     "name": "stdout",
     "output_type": "stream",
     "text": [
      "In [8] used 0.0156 MiB RAM in 0.11s, peaked 0.00 MiB above current, total RAM usage 140.15 MiB\n"
     ]
    }
   ],
   "source": [
    "corpus"
   ]
  },
  {
   "cell_type": "code",
   "execution_count": 12,
   "metadata": {},
   "outputs": [
    {
     "data": {
      "text/plain": [
       "{u'around': 6,\n",
       " u'basebal': 7,\n",
       " u'better': 22,\n",
       " u'blood': 13,\n",
       " u'brocolli': 0,\n",
       " u'brother': 1,\n",
       " u'caus': 14,\n",
       " u'drive': 8,\n",
       " u'eat': 2,\n",
       " u'expert': 15,\n",
       " u'feel': 23,\n",
       " u'good': 3,\n",
       " u'health': 16,\n",
       " u'increas': 17,\n",
       " u'like': 4,\n",
       " u'lot': 9,\n",
       " u'may': 18,\n",
       " u'mother': 5,\n",
       " u'never': 24,\n",
       " u'often': 25,\n",
       " u'perform': 26,\n",
       " u'practic': 10,\n",
       " u'pressur': 19,\n",
       " u'profession': 30,\n",
       " u'say': 31,\n",
       " u'school': 27,\n",
       " u'seem': 28,\n",
       " u'spend': 11,\n",
       " u'suggest': 20,\n",
       " u'tension': 21,\n",
       " u'time': 12,\n",
       " u'well': 29}"
      ]
     },
     "execution_count": 12,
     "metadata": {},
     "output_type": "execute_result"
    },
    {
     "name": "stdout",
     "output_type": "stream",
     "text": [
      "In [12] used 0.0195 MiB RAM in 0.11s, peaked 0.00 MiB above current, total RAM usage 141.12 MiB\n"
     ]
    }
   ],
   "source": [
    "dictionary.token2id"
   ]
  },
  {
   "cell_type": "code",
   "execution_count": 10,
   "metadata": {},
   "outputs": [
    {
     "name": "stdout",
     "output_type": "stream",
     "text": [
      "In [10] used 0.3242 MiB RAM in 0.17s, peaked 0.00 MiB above current, total RAM usage 141.10 MiB\n"
     ]
    }
   ],
   "source": [
    "import gensim\n",
    "\n",
    "ldamodel = gensim.models.ldamodel.LdaModel(corpus, num_topics=3, id2word = dictionary, passes=20)"
   ]
  },
  {
   "cell_type": "code",
   "execution_count": 13,
   "metadata": {},
   "outputs": [
    {
     "name": "stdout",
     "output_type": "stream",
     "text": [
      "[(0, u'0.079*\"drive\" + 0.045*\"pressur\" + 0.045*\"health\"'), (1, u'0.031*\"health\" + 0.031*\"brother\" + 0.031*\"mother\"'), (2, u'0.089*\"brocolli\" + 0.089*\"good\" + 0.062*\"mother\"')]\n",
      "In [13] used 0.0195 MiB RAM in 0.11s, peaked 0.00 MiB above current, total RAM usage 141.14 MiB\n"
     ]
    }
   ],
   "source": [
    "print ldamodel.print_topics(num_topics=3, num_words=3)"
   ]
  }
 ],
 "metadata": {
  "kernelspec": {
   "display_name": "Python 2",
   "language": "python",
   "name": "python2"
  },
  "language_info": {
   "codemirror_mode": {
    "name": "ipython",
    "version": 2
   },
   "file_extension": ".py",
   "mimetype": "text/x-python",
   "name": "python",
   "nbconvert_exporter": "python",
   "pygments_lexer": "ipython2",
   "version": "2.7.14"
  }
 },
 "nbformat": 4,
 "nbformat_minor": 2
}
