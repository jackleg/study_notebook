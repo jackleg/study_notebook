{
 "cells": [
  {
   "cell_type": "code",
   "execution_count": 6,
   "metadata": {},
   "outputs": [],
   "source": [
    "%matplotlib inline"
   ]
  },
  {
   "cell_type": "markdown",
   "metadata": {},
   "source": [
    "# heatmap"
   ]
  },
  {
   "cell_type": "code",
   "execution_count": 32,
   "metadata": {
    "scrolled": false
   },
   "outputs": [
    {
     "data": {
      "image/png": "[encoded data removed]",
      "text/plain": [
       "<matplotlib.figure.Figure at 0x7f0b69119850>"
      ]
     },
     "metadata": {},
     "output_type": "display_data"
    }
   ],
   "source": [
    "df = pd.DataFrame(np.random.randn(10, 10))\n",
    "heatmap(df, figsize=(10, 10))"
   ]
  },
  {
   "cell_type": "markdown",
   "metadata": {},
   "source": [
    "# display_full"
   ]
  },
  {
   "cell_type": "code",
   "execution_count": 33,
   "metadata": {
    "scrolled": false
   },
   "outputs": [
    {
     "data": {
      "text/html": [
       "<div>\n",
       "<table border=\"1\" class=\"dataframe\">\n",
       "  <thead>\n",
       "    <tr style=\"text-align: right;\">\n",
       "      <th></th>\n",
       "      <th>0</th>\n",
       "      <th>1</th>\n",
       "      <th>2</th>\n",
       "      <th>3</th>\n",
       "      <th>4</th>\n",
       "      <th>5</th>\n",
       "      <th>6</th>\n",
       "      <th>7</th>\n",
       "      <th>8</th>\n",
       "      <th>9</th>\n",
       "    </tr>\n",
       "  </thead>\n",
       "  <tbody>\n",
       "    <tr>\n",
       "      <th>0</th>\n",
       "      <td>-0.131704</td>\n",
       "      <td>0.285592</td>\n",
       "      <td>0.452802</td>\n",
       "      <td>-0.668092</td>\n",
       "      <td>0.925172</td>\n",
       "      <td>-0.400157</td>\n",
       "      <td>1.896827</td>\n",
       "      <td>-0.296039</td>\n",
       "      <td>-1.136046</td>\n",
       "      <td>2.587194</td>\n",
       "    </tr>\n",
       "    <tr>\n",
       "      <th>1</th>\n",
       "      <td>-0.832288</td>\n",
       "      <td>0.128151</td>\n",
       "      <td>0.938226</td>\n",
       "      <td>-0.754359</td>\n",
       "      <td>-0.751534</td>\n",
       "      <td>-1.706275</td>\n",
       "      <td>0.297118</td>\n",
       "      <td>-1.754654</td>\n",
       "      <td>-0.279872</td>\n",
       "      <td>1.258029</td>\n",
       "    </tr>\n",
       "    <tr>\n",
       "      <th>2</th>\n",
       "      <td>-1.118324</td>\n",
       "      <td>1.235733</td>\n",
       "      <td>-0.018165</td>\n",
       "      <td>0.185909</td>\n",
       "      <td>-0.830341</td>\n",
       "      <td>0.281354</td>\n",
       "      <td>0.583623</td>\n",
       "      <td>-0.913356</td>\n",
       "      <td>1.396020</td>\n",
       "      <td>0.152231</td>\n",
       "    </tr>\n",
       "    <tr>\n",
       "      <th>3</th>\n",
       "      <td>0.425448</td>\n",
       "      <td>0.086672</td>\n",
       "      <td>-1.477733</td>\n",
       "      <td>0.511490</td>\n",
       "      <td>0.605566</td>\n",
       "      <td>-0.865621</td>\n",
       "      <td>-0.185718</td>\n",
       "      <td>-0.357536</td>\n",
       "      <td>-1.247819</td>\n",
       "      <td>0.864299</td>\n",
       "    </tr>\n",
       "    <tr>\n",
       "      <th>4</th>\n",
       "      <td>1.479182</td>\n",
       "      <td>-0.117056</td>\n",
       "      <td>-0.468966</td>\n",
       "      <td>-0.725575</td>\n",
       "      <td>0.207142</td>\n",
       "      <td>0.565549</td>\n",
       "      <td>-0.156109</td>\n",
       "      <td>-1.990367</td>\n",
       "      <td>-0.345370</td>\n",
       "      <td>-0.547153</td>\n",
       "    </tr>\n",
       "    <tr>\n",
       "      <th>5</th>\n",
       "      <td>1.028616</td>\n",
       "      <td>-0.104348</td>\n",
       "      <td>0.341038</td>\n",
       "      <td>0.580298</td>\n",
       "      <td>1.085278</td>\n",
       "      <td>-2.543617</td>\n",
       "      <td>0.583534</td>\n",
       "      <td>-1.237198</td>\n",
       "      <td>-0.491599</td>\n",
       "      <td>0.295487</td>\n",
       "    </tr>\n",
       "    <tr>\n",
       "      <th>6</th>\n",
       "      <td>2.410519</td>\n",
       "      <td>0.069174</td>\n",
       "      <td>0.738721</td>\n",
       "      <td>1.297762</td>\n",
       "      <td>0.984126</td>\n",
       "      <td>-0.361076</td>\n",
       "      <td>-2.045397</td>\n",
       "      <td>-1.585204</td>\n",
       "      <td>-1.148647</td>\n",
       "      <td>1.210055</td>\n",
       "    </tr>\n",
       "    <tr>\n",
       "      <th>7</th>\n",
       "      <td>-0.668050</td>\n",
       "      <td>-1.371978</td>\n",
       "      <td>-2.093029</td>\n",
       "      <td>0.379473</td>\n",
       "      <td>1.177476</td>\n",
       "      <td>-1.258825</td>\n",
       "      <td>-1.674936</td>\n",
       "      <td>0.221134</td>\n",
       "      <td>-1.286791</td>\n",
       "      <td>-0.078930</td>\n",
       "    </tr>\n",
       "    <tr>\n",
       "      <th>8</th>\n",
       "      <td>-0.155196</td>\n",
       "      <td>2.103792</td>\n",
       "      <td>1.145957</td>\n",
       "      <td>0.233960</td>\n",
       "      <td>-0.662229</td>\n",
       "      <td>0.459454</td>\n",
       "      <td>2.148647</td>\n",
       "      <td>-1.018043</td>\n",
       "      <td>1.072941</td>\n",
       "      <td>-0.972490</td>\n",
       "    </tr>\n",
       "    <tr>\n",
       "      <th>9</th>\n",
       "      <td>0.949983</td>\n",
       "      <td>-1.540011</td>\n",
       "      <td>-1.617392</td>\n",
       "      <td>-0.317084</td>\n",
       "      <td>1.449873</td>\n",
       "      <td>-0.048421</td>\n",
       "      <td>-1.807802</td>\n",
       "      <td>2.204677</td>\n",
       "      <td>0.974876</td>\n",
       "      <td>0.949337</td>\n",
       "    </tr>\n",
       "  </tbody>\n",
       "</table>\n",
       "</div>"
      ],
      "text/plain": [
       "          0         1         2         3         4         5         6         7         8         9\n",
       "0 -0.131704  0.285592  0.452802 -0.668092  0.925172 -0.400157  1.896827 -0.296039 -1.136046  2.587194\n",
       "1 -0.832288  0.128151  0.938226 -0.754359 -0.751534 -1.706275  0.297118 -1.754654 -0.279872  1.258029\n",
       "2 -1.118324  1.235733 -0.018165  0.185909 -0.830341  0.281354  0.583623 -0.913356  1.396020  0.152231\n",
       "3  0.425448  0.086672 -1.477733  0.511490  0.605566 -0.865621 -0.185718 -0.357536 -1.247819  0.864299\n",
       "4  1.479182 -0.117056 -0.468966 -0.725575  0.207142  0.565549 -0.156109 -1.990367 -0.345370 -0.547153\n",
       "5  1.028616 -0.104348  0.341038  0.580298  1.085278 -2.543617  0.583534 -1.237198 -0.491599  0.295487\n",
       "6  2.410519  0.069174  0.738721  1.297762  0.984126 -0.361076 -2.045397 -1.585204 -1.148647  1.210055\n",
       "7 -0.668050 -1.371978 -2.093029  0.379473  1.177476 -1.258825 -1.674936  0.221134 -1.286791 -0.078930\n",
       "8 -0.155196  2.103792  1.145957  0.233960 -0.662229  0.459454  2.148647 -1.018043  1.072941 -0.972490\n",
       "9  0.949983 -1.540011 -1.617392 -0.317084  1.449873 -0.048421 -1.807802  2.204677  0.974876  0.949337"
      ]
     },
     "metadata": {},
     "output_type": "display_data"
    }
   ],
   "source": [
    "# display all contents\n",
    "display_full(df)"
   ]
  },
  {
   "cell_type": "markdown",
   "metadata": {},
   "source": [
    "# read_tsv"
   ]
  },
  {
   "cell_type": "code",
   "execution_count": 22,
   "metadata": {
    "scrolled": false
   },
   "outputs": [
    {
     "data": {
      "text/html": [
       "<div>\n",
       "<table border=\"1\" class=\"dataframe\">\n",
       "  <thead>\n",
       "    <tr style=\"text-align: right;\">\n",
       "      <th></th>\n",
       "      <th>0.0</th>\n",
       "      <th>0.1</th>\n",
       "      <th>0.2</th>\n",
       "      <th>0.3</th>\n",
       "      <th>0.4</th>\n",
       "      <th>0.5</th>\n",
       "      <th>0.6</th>\n",
       "      <th>0.7</th>\n",
       "      <th>0.8</th>\n",
       "      <th>0.9</th>\n",
       "      <th>...</th>\n",
       "      <th>9.1</th>\n",
       "      <th>9.2</th>\n",
       "      <th>9.3</th>\n",
       "      <th>9.4</th>\n",
       "      <th>9.5</th>\n",
       "      <th>9.6</th>\n",
       "      <th>9.7</th>\n",
       "      <th>9.8</th>\n",
       "      <th>9.9</th>\n",
       "      <th>10.0</th>\n",
       "    </tr>\n",
       "  </thead>\n",
       "  <tbody>\n",
       "    <tr>\n",
       "      <th>0.00</th>\n",
       "      <td>7.4955</td>\n",
       "      <td>11.1085</td>\n",
       "      <td>11.1235</td>\n",
       "      <td>11.1108</td>\n",
       "      <td>11.1132</td>\n",
       "      <td>11.1022</td>\n",
       "      <td>11.0964</td>\n",
       "      <td>11.0940</td>\n",
       "      <td>11.0875</td>\n",
       "      <td>11.0969</td>\n",
       "      <td>...</td>\n",
       "      <td>10.7051</td>\n",
       "      <td>10.7044</td>\n",
       "      <td>10.7069</td>\n",
       "      <td>10.7016</td>\n",
       "      <td>10.6961</td>\n",
       "      <td>10.6964</td>\n",
       "      <td>10.6948</td>\n",
       "      <td>10.6875</td>\n",
       "      <td>10.6856</td>\n",
       "      <td>10.6822</td>\n",
       "    </tr>\n",
       "    <tr>\n",
       "      <th>0.01</th>\n",
       "      <td>7.4955</td>\n",
       "      <td>11.1909</td>\n",
       "      <td>11.2052</td>\n",
       "      <td>11.2082</td>\n",
       "      <td>11.2213</td>\n",
       "      <td>11.2307</td>\n",
       "      <td>11.2253</td>\n",
       "      <td>11.2200</td>\n",
       "      <td>11.2154</td>\n",
       "      <td>11.2187</td>\n",
       "      <td>...</td>\n",
       "      <td>10.8532</td>\n",
       "      <td>10.8534</td>\n",
       "      <td>10.8515</td>\n",
       "      <td>10.8463</td>\n",
       "      <td>10.8409</td>\n",
       "      <td>10.8388</td>\n",
       "      <td>10.8323</td>\n",
       "      <td>10.8251</td>\n",
       "      <td>10.8260</td>\n",
       "      <td>10.8241</td>\n",
       "    </tr>\n",
       "    <tr>\n",
       "      <th>0.02</th>\n",
       "      <td>7.4955</td>\n",
       "      <td>11.2607</td>\n",
       "      <td>11.2697</td>\n",
       "      <td>11.2819</td>\n",
       "      <td>11.2793</td>\n",
       "      <td>11.2746</td>\n",
       "      <td>11.2803</td>\n",
       "      <td>11.2827</td>\n",
       "      <td>11.2777</td>\n",
       "      <td>11.2889</td>\n",
       "      <td>...</td>\n",
       "      <td>10.9160</td>\n",
       "      <td>10.9152</td>\n",
       "      <td>10.9107</td>\n",
       "      <td>10.9090</td>\n",
       "      <td>10.9074</td>\n",
       "      <td>10.9070</td>\n",
       "      <td>10.9031</td>\n",
       "      <td>10.9002</td>\n",
       "      <td>10.8992</td>\n",
       "      <td>10.8884</td>\n",
       "    </tr>\n",
       "    <tr>\n",
       "      <th>0.03</th>\n",
       "      <td>7.4955</td>\n",
       "      <td>11.2988</td>\n",
       "      <td>11.3108</td>\n",
       "      <td>11.3212</td>\n",
       "      <td>11.3280</td>\n",
       "      <td>11.3149</td>\n",
       "      <td>11.3159</td>\n",
       "      <td>11.3154</td>\n",
       "      <td>11.3101</td>\n",
       "      <td>11.3008</td>\n",
       "      <td>...</td>\n",
       "      <td>10.9597</td>\n",
       "      <td>10.9602</td>\n",
       "      <td>10.9563</td>\n",
       "      <td>10.9516</td>\n",
       "      <td>10.9519</td>\n",
       "      <td>10.9493</td>\n",
       "      <td>10.9498</td>\n",
       "      <td>10.9478</td>\n",
       "      <td>10.9427</td>\n",
       "      <td>10.9428</td>\n",
       "    </tr>\n",
       "    <tr>\n",
       "      <th>0.04</th>\n",
       "      <td>7.4955</td>\n",
       "      <td>11.3323</td>\n",
       "      <td>11.3487</td>\n",
       "      <td>11.3688</td>\n",
       "      <td>11.3845</td>\n",
       "      <td>11.3769</td>\n",
       "      <td>11.3757</td>\n",
       "      <td>11.3682</td>\n",
       "      <td>11.3777</td>\n",
       "      <td>11.3562</td>\n",
       "      <td>...</td>\n",
       "      <td>11.0023</td>\n",
       "      <td>10.9997</td>\n",
       "      <td>10.9987</td>\n",
       "      <td>10.9968</td>\n",
       "      <td>10.9960</td>\n",
       "      <td>10.9960</td>\n",
       "      <td>10.9910</td>\n",
       "      <td>10.9914</td>\n",
       "      <td>10.9909</td>\n",
       "      <td>10.9839</td>\n",
       "    </tr>\n",
       "  </tbody>\n",
       "</table>\n",
       "<p>5 rows × 101 columns</p>\n",
       "</div>"
      ],
      "text/plain": [
       "         0.0      0.1      0.2      0.3      0.4      0.5      0.6      0.7      0.8      0.9   ...         9.1      9.2      9.3      9.4      9.5      9.6      9.7      9.8      9.9     10.0\n",
       "0.00  7.4955  11.1085  11.1235  11.1108  11.1132  11.1022  11.0964  11.0940  11.0875  11.0969   ...     10.7051  10.7044  10.7069  10.7016  10.6961  10.6964  10.6948  10.6875  10.6856  10.6822\n",
       "0.01  7.4955  11.1909  11.2052  11.2082  11.2213  11.2307  11.2253  11.2200  11.2154  11.2187   ...     10.8532  10.8534  10.8515  10.8463  10.8409  10.8388  10.8323  10.8251  10.8260  10.8241\n",
       "0.02  7.4955  11.2607  11.2697  11.2819  11.2793  11.2746  11.2803  11.2827  11.2777  11.2889   ...     10.9160  10.9152  10.9107  10.9090  10.9074  10.9070  10.9031  10.9002  10.8992  10.8884\n",
       "0.03  7.4955  11.2988  11.3108  11.3212  11.3280  11.3149  11.3159  11.3154  11.3101  11.3008   ...     10.9597  10.9602  10.9563  10.9516  10.9519  10.9493  10.9498  10.9478  10.9427  10.9428\n",
       "0.04  7.4955  11.3323  11.3487  11.3688  11.3845  11.3769  11.3757  11.3682  11.3777  11.3562   ...     11.0023  10.9997  10.9987  10.9968  10.9960  10.9960  10.9910  10.9914  10.9909  10.9839\n",
       "\n",
       "[5 rows x 101 columns]"
      ]
     },
     "execution_count": 22,
     "metadata": {},
     "output_type": "execute_result"
    }
   ],
   "source": [
    "# same as read_csv except seperator(\"\\t\")\n",
    "df = read_tsv(\"/data1/users/jay.han/web/linear/data/serp/1.content.bm25.dcg_cut_10.txt\", index_col=0)\n",
    "df.head()"
   ]
  },
  {
   "cell_type": "markdown",
   "metadata": {},
   "source": [
    "# str_join"
   ]
  },
  {
   "cell_type": "code",
   "execution_count": 6,
   "metadata": {},
   "outputs": [
    {
     "name": "stdout",
     "output_type": "stream",
     "text": [
      "1--2--3--4\n"
     ]
    }
   ],
   "source": [
    "# join non-string list.\n",
    "# \"--\".join([1, 2, 3, 4]) this occurs TypeError.\n",
    "print strutil.str_join([1, 2, 3, 4], sep=\"--\")"
   ]
  },
  {
   "cell_type": "markdown",
   "metadata": {},
   "source": [
    "# calc_prob"
   ]
  },
  {
   "cell_type": "code",
   "execution_count": 11,
   "metadata": {},
   "outputs": [
    {
     "data": {
      "text/plain": [
       "0    0.097\n",
       "1    0.100\n",
       "2    0.098\n",
       "3    0.093\n",
       "4    0.094\n",
       "5    0.093\n",
       "6    0.086\n",
       "7    0.122\n",
       "8    0.119\n",
       "9    0.098\n",
       "dtype: float64"
      ]
     },
     "execution_count": 11,
     "metadata": {},
     "output_type": "execute_result"
    }
   ],
   "source": [
    "# calculate distribution\n",
    "data = pd.Series(np.random.randint(0, 10, 1000))\n",
    "statsutil.calc_prob(data)"
   ]
  },
  {
   "cell_type": "markdown",
   "metadata": {},
   "source": [
    "# calc_kld"
   ]
  },
  {
   "cell_type": "code",
   "execution_count": 29,
   "metadata": {},
   "outputs": [
    {
     "data": {
      "text/plain": [
       "0.00894870391120936"
      ]
     },
     "execution_count": 29,
     "metadata": {},
     "output_type": "execute_result"
    }
   ],
   "source": [
    "# calculate KL Divergence (in discrete case)\n",
    "data1 = statsutil.calc_prob(pd.Series(np.random.randint(0, 10, 1000)))\n",
    "data2 = statsutil.calc_prob(pd.Series(np.random.randint(0, 10, 1000)))\n",
    "\n",
    "statsutil.calc_kld(data1, data2)"
   ]
  },
  {
   "cell_type": "markdown",
   "metadata": {},
   "source": [
    "# dfutil.find_by_value"
   ]
  },
  {
   "cell_type": "code",
   "execution_count": 1,
   "metadata": {},
   "outputs": [
    {
     "data": {
      "text/html": [
       "<div>\n",
       "<table border=\"1\" class=\"dataframe\">\n",
       "  <thead>\n",
       "    <tr style=\"text-align: right;\">\n",
       "      <th></th>\n",
       "      <th>A</th>\n",
       "      <th>B</th>\n",
       "      <th>C</th>\n",
       "    </tr>\n",
       "  </thead>\n",
       "  <tbody>\n",
       "    <tr>\n",
       "      <th>0</th>\n",
       "      <td>0.376611</td>\n",
       "      <td>0.038023</td>\n",
       "      <td>False</td>\n",
       "    </tr>\n",
       "    <tr>\n",
       "      <th>1</th>\n",
       "      <td>0.442451</td>\n",
       "      <td>1.020663</td>\n",
       "      <td>False</td>\n",
       "    </tr>\n",
       "    <tr>\n",
       "      <th>2</th>\n",
       "      <td>1.424705</td>\n",
       "      <td>-0.385613</td>\n",
       "      <td>True</td>\n",
       "    </tr>\n",
       "    <tr>\n",
       "      <th>3</th>\n",
       "      <td>0.186334</td>\n",
       "      <td>-1.376242</td>\n",
       "      <td>False</td>\n",
       "    </tr>\n",
       "    <tr>\n",
       "      <th>4</th>\n",
       "      <td>0.289684</td>\n",
       "      <td>1.287465</td>\n",
       "      <td>False</td>\n",
       "    </tr>\n",
       "    <tr>\n",
       "      <th>5</th>\n",
       "      <td>0.222178</td>\n",
       "      <td>2.022653</td>\n",
       "      <td>True</td>\n",
       "    </tr>\n",
       "    <tr>\n",
       "      <th>6</th>\n",
       "      <td>-0.539282</td>\n",
       "      <td>0.451487</td>\n",
       "      <td>True</td>\n",
       "    </tr>\n",
       "    <tr>\n",
       "      <th>7</th>\n",
       "      <td>-0.779466</td>\n",
       "      <td>0.520249</td>\n",
       "      <td>False</td>\n",
       "    </tr>\n",
       "    <tr>\n",
       "      <th>8</th>\n",
       "      <td>0.113788</td>\n",
       "      <td>-0.232121</td>\n",
       "      <td>False</td>\n",
       "    </tr>\n",
       "    <tr>\n",
       "      <th>9</th>\n",
       "      <td>1.556819</td>\n",
       "      <td>-0.671163</td>\n",
       "      <td>False</td>\n",
       "    </tr>\n",
       "  </tbody>\n",
       "</table>\n",
       "</div>"
      ],
      "text/plain": [
       "          A         B      C\n",
       "0  0.376611  0.038023  False\n",
       "1  0.442451  1.020663  False\n",
       "2  1.424705 -0.385613   True\n",
       "3  0.186334 -1.376242  False\n",
       "4  0.289684  1.287465  False\n",
       "5  0.222178  2.022653   True\n",
       "6 -0.539282  0.451487   True\n",
       "7 -0.779466  0.520249  False\n",
       "8  0.113788 -0.232121  False\n",
       "9  1.556819 -0.671163  False"
      ]
     },
     "metadata": {},
     "output_type": "display_data"
    },
    {
     "name": "stdout",
     "output_type": "stream",
     "text": [
      "2\n",
      "6\n"
     ]
    }
   ],
   "source": [
    "# find column value\n",
    "df = pd.DataFrame({'A': np.random.randn(10), 'B': np.random.randn(10), 'C': np.random.choice([False, True], 10)})\n",
    "display(df)\n",
    "\n",
    "print dfutil.find_by_value(df, 'C', True)\n",
    "print dfutil.find_by_value(df, 'C', True, first=False)"
   ]
  },
  {
   "cell_type": "code",
   "execution_count": 5,
   "metadata": {},
   "outputs": [
    {
     "name": "stdout",
     "output_type": "stream",
     "text": [
      "True\n",
      "False\n",
      "True\n",
      "True\n",
      "False\n",
      "True\n"
     ]
    }
   ],
   "source": [
    "# 주어진 스트링에 한글 포함 여부 판단\n",
    "print strutil.has_hangul(\"아아아앙\")\n",
    "print strutil.has_hangul(\"ajkdlf\")\n",
    "print strutil.has_hangul(\"asdjklf 한jkal;sdjkf\")\n",
    "\n",
    "print strutil.has_hangul(u\"아아아앙\")\n",
    "print strutil.has_hangul(u\"ajkdlf\")\n",
    "print strutil.has_hangul(u\"asdjklf 한jkal;sdjkf\")"
   ]
  },
  {
   "cell_type": "code",
   "execution_count": 4,
   "metadata": {},
   "outputs": [
    {
     "name": "stdout",
     "output_type": "stream",
     "text": [
      "False\n"
     ]
    }
   ],
   "source": [
    "print strutil.has_hangul(u\"部落迷雾通鉴纪事本末下载tulisa闪爵小说网我爱幼幼\")"
   ]
  },
  {
   "cell_type": "code",
   "execution_count": 1,
   "metadata": {
    "scrolled": true
   },
   "outputs": [
    {
     "name": "stdout",
     "output_type": "stream",
     "text": [
      "In [1] used 17.3242 MiB RAM in 0.10s, peaked 0.00 MiB above current, total RAM usage 109.98 MiB\n"
     ]
    }
   ],
   "source": [
    "import strutil"
   ]
  },
  {
   "cell_type": "markdown",
   "metadata": {},
   "source": [
    "# 한글을 영타로 바꾸는 convert_hangul_to_eng"
   ]
  },
  {
   "cell_type": "code",
   "execution_count": 6,
   "metadata": {},
   "outputs": [
    {
     "name": "stdout",
     "output_type": "stream",
     "text": [
      "트레이닝복세트 xmfpdlsldqhrtpxm\n",
      "자전거 wkwjsrj\n",
      "갤럭시S8 roffjrtlS8\n",
      "아이폰6+ dkdlvhs6+\n",
      "LG전자 V20 정품케이스 LGwjswk V20 wjdvnazpdltm\n",
      "In [6] used 0.0039 MiB RAM in 0.11s, peaked 0.00 MiB above current, total RAM usage 110.45 MiB\n"
     ]
    }
   ],
   "source": [
    "print \"트레이닝복세트\", strutil.convert_hangul_to_eng(\"트레이닝복세트\")\n",
    "print \"자전거\", strutil.convert_hangul_to_eng(\"자전거\")\n",
    "print \"갤럭시S8\", strutil.convert_hangul_to_eng(\"갤럭시S8\")\n",
    "print \"아이폰6+\", strutil.convert_hangul_to_eng(\"아이폰6+\")\n",
    "print \"LG전자 V20 정품케이스\", strutil.convert_hangul_to_eng(\"LG전자 V20 정품케이스\")"
   ]
  },
  {
   "cell_type": "markdown",
   "metadata": {},
   "source": [
    "# statsutil.plot_good_ratio\n",
    "* feature 구간별로 good 문서의 비율이 어떻게 변하는가 plot."
   ]
  },
  {
   "cell_type": "code",
   "execution_count": 1,
   "metadata": {},
   "outputs": [
    {
     "data": {
      "text/html": [
       "<div>\n",
       "<table border=\"1\" class=\"dataframe\">\n",
       "  <thead>\n",
       "    <tr style=\"text-align: right;\">\n",
       "      <th></th>\n",
       "      <th>query</th>\n",
       "      <th>url</th>\n",
       "      <th>docid</th>\n",
       "      <th>eval</th>\n",
       "      <th>irf</th>\n",
       "    </tr>\n",
       "  </thead>\n",
       "  <tbody>\n",
       "    <tr>\n",
       "      <th>0</th>\n",
       "      <td>'버들이와찌지리의팬카페'</td>\n",
       "      <td>http://videosq.com/video/N-4mvzRuFLM/안동역에서-찌지리-품바</td>\n",
       "      <td>6603a842859c4811e7fea0aa79cf2e843be58d89</td>\n",
       "      <td>0</td>\n",
       "      <td>0.180562</td>\n",
       "    </tr>\n",
       "    <tr>\n",
       "      <th>1</th>\n",
       "      <td>(주)국제전파</td>\n",
       "      <td>http://www.yongsan.co.kr/main/shopDetail.php?Shopid=2163</td>\n",
       "      <td>bffcfaad7a4d40ae3d3b2a7dfde4ad79ae1e7151</td>\n",
       "      <td>0</td>\n",
       "      <td>0.213412</td>\n",
       "    </tr>\n",
       "    <tr>\n",
       "      <th>2</th>\n",
       "      <td>(주)대봉식품</td>\n",
       "      <td>http://www.gj-biz.com/info/excel_companyview.asp?idx=145&amp;gotopage=412&amp;code=&amp;searchValue=</td>\n",
       "      <td>fc5a88eb2c09a82b429a3de8b6cc48e315eebd8f</td>\n",
       "      <td>1</td>\n",
       "      <td>0.181646</td>\n",
       "    </tr>\n",
       "    <tr>\n",
       "      <th>3</th>\n",
       "      <td>(주)두성코텍</td>\n",
       "      <td>http://www.life114.co.kr/?html=board.view&amp;M_SEQ=610307</td>\n",
       "      <td>09017c34c362bb13a78c1dad1ac91628d7908451</td>\n",
       "      <td>1</td>\n",
       "      <td>0.175086</td>\n",
       "    </tr>\n",
       "    <tr>\n",
       "      <th>4</th>\n",
       "      <td>(주)모드온</td>\n",
       "      <td>http://www.vnet.go.kr/employ/jobFreeView.asp?jidx=137237</td>\n",
       "      <td>f02ed935cab0e1a8dc90c3b1ceb1da710b70dd7f</td>\n",
       "      <td>0</td>\n",
       "      <td>0.400808</td>\n",
       "    </tr>\n",
       "  </tbody>\n",
       "</table>\n",
       "</div>"
      ],
      "text/plain": [
       "           query                                                                                       url                                     docid  eval       irf\n",
       "0  '버들이와찌지리의팬카페'                                         http://videosq.com/video/N-4mvzRuFLM/안동역에서-찌지리-품바  6603a842859c4811e7fea0aa79cf2e843be58d89     0  0.180562\n",
       "1        (주)국제전파                                  http://www.yongsan.co.kr/main/shopDetail.php?Shopid=2163  bffcfaad7a4d40ae3d3b2a7dfde4ad79ae1e7151     0  0.213412\n",
       "2        (주)대봉식품  http://www.gj-biz.com/info/excel_companyview.asp?idx=145&gotopage=412&code=&searchValue=  fc5a88eb2c09a82b429a3de8b6cc48e315eebd8f     1  0.181646\n",
       "3        (주)두성코텍                                    http://www.life114.co.kr/?html=board.view&M_SEQ=610307  09017c34c362bb13a78c1dad1ac91628d7908451     1  0.175086\n",
       "4         (주)모드온                                  http://www.vnet.go.kr/employ/jobFreeView.asp?jidx=137237  f02ed935cab0e1a8dc90c3b1ceb1da710b70dd7f     0  0.400808"
      ]
     },
     "execution_count": 1,
     "metadata": {},
     "output_type": "execute_result"
    }
   ],
   "source": [
    "irf_df = read_tsv(\"/data1/users/jay.han/web/irf/data/web_irf.20160404.result.merged.irf.txt\", header=None, names=\"query url docid eval irf\".split())\n",
    "irf_df.head()"
   ]
  },
  {
   "cell_type": "code",
   "execution_count": 11,
   "metadata": {},
   "outputs": [
    {
     "data": {
      "image/png": "[encoded data removed]",
      "text/plain": [
       "<matplotlib.figure.Figure at 0x7f9dfd495210>"
      ]
     },
     "metadata": {},
     "output_type": "display_data"
    }
   ],
   "source": [
    "# irf score 구간별로 좋은 문서 비율\n",
    "statsutil.plot_good_ratio(irf_df['eval'], irf_df['irf'], bins=10, show_table=True, figsize=(15, 7))"
   ]
  },
  {
   "cell_type": "code",
   "execution_count": 6,
   "metadata": {},
   "outputs": [
    {
     "data": {
      "image/png": "[encoded data removed]",
      "text/plain": [
       "<matplotlib.figure.Figure at 0x7f9db95045d0>"
      ]
     },
     "metadata": {},
     "output_type": "display_data"
    }
   ],
   "source": [
    "# irf score 구간별로 좋은 문서 비율\n",
    "# 문서를 구간별로 누적한다.\n",
    "statsutil.plot_good_ratio(irf_df['eval'], irf_df['irf'], bins=10, accumulative=True, show_table=True, figsize=(15, 7))"
   ]
  },
  {
   "cell_type": "code",
   "execution_count": 7,
   "metadata": {},
   "outputs": [
    {
     "data": {
      "image/png": "[encoded data removed]",
      "text/plain": [
       "<matplotlib.figure.Figure at 0x7f9db9554ed0>"
      ]
     },
     "metadata": {},
     "output_type": "display_data"
    }
   ],
   "source": [
    "# irf score 구간별로 좋은 문서 비율\n",
    "# 문서를 구간별로 누적한다.\n",
    "# feature (irf)의 값이 큰 부분부터 누적한다.\n",
    "statsutil.plot_good_ratio(irf_df['eval'], irf_df['irf'], bins=10, accumulative=True, ascending=False, show_table=True, figsize=(15, 7))"
   ]
  },
  {
   "cell_type": "markdown",
   "metadata": {},
   "source": [
    "# statsutil.feature_summary\n",
    "* feature description과 histogram 한꺼번에 보기\n",
    "* 상/하단의 threshold 지정"
   ]
  },
  {
   "cell_type": "code",
   "execution_count": 5,
   "metadata": {},
   "outputs": [],
   "source": [
    "reload(statsutil)"
   ]
  },
  {
   "cell_type": "code",
   "execution_count": 2,
   "metadata": {},
   "outputs": [],
   "source": [
    "svc_df = read_tsv(\"/data1/users/jay.han/web/irf_apply/data/sampled.service.20160426.txt\", \n",
    "                  header=None, \n",
    "                  names=\"query qtc su_qtc rank url docid score bm25 proximity quality recency \\\n",
    "                  reliability is_unregistered_host is_global spam_flag mtr anchor_idt anchor_dha\".split())"
   ]
  },
  {
   "cell_type": "code",
   "execution_count": 7,
   "metadata": {},
   "outputs": [
    {
     "name": "stdout",
     "output_type": "stream",
     "text": [
      "=== -inf < score < inf ===\n"
     ]
    },
    {
     "data": {
      "text/html": [
       "<div>\n",
       "<table border=\"1\" class=\"dataframe\">\n",
       "  <thead>\n",
       "    <tr style=\"text-align: right;\">\n",
       "      <th></th>\n",
       "      <th>all</th>\n",
       "    </tr>\n",
       "  </thead>\n",
       "  <tbody>\n",
       "    <tr>\n",
       "      <th>count</th>\n",
       "      <td>95826.000000</td>\n",
       "    </tr>\n",
       "    <tr>\n",
       "      <th>mean</th>\n",
       "      <td>0.608654</td>\n",
       "    </tr>\n",
       "    <tr>\n",
       "      <th>std</th>\n",
       "      <td>0.416606</td>\n",
       "    </tr>\n",
       "    <tr>\n",
       "      <th>min</th>\n",
       "      <td>-1.449001</td>\n",
       "    </tr>\n",
       "    <tr>\n",
       "      <th>25%</th>\n",
       "      <td>0.506860</td>\n",
       "    </tr>\n",
       "    <tr>\n",
       "      <th>50%</th>\n",
       "      <td>0.675069</td>\n",
       "    </tr>\n",
       "    <tr>\n",
       "      <th>75%</th>\n",
       "      <td>0.830397</td>\n",
       "    </tr>\n",
       "    <tr>\n",
       "      <th>max</th>\n",
       "      <td>41.145466</td>\n",
       "    </tr>\n",
       "  </tbody>\n",
       "</table>\n",
       "</div>"
      ],
      "text/plain": [
       "                all\n",
       "count  95826.000000\n",
       "mean       0.608654\n",
       "std        0.416606\n",
       "min       -1.449001\n",
       "25%        0.506860\n",
       "50%        0.675069\n",
       "75%        0.830397\n",
       "max       41.145466"
      ]
     },
     "metadata": {},
     "output_type": "display_data"
    },
    {
     "data": {
      "image/png": "[encoded data removed]",
      "text/plain": [
       "<matplotlib.figure.Figure at 0x7f0b69add6d0>"
      ]
     },
     "metadata": {},
     "output_type": "display_data"
    }
   ],
   "source": [
    "# 'score' 전체 분포 확인\n",
    "statsutil.feature_summary(svc_df, \"score\")"
   ]
  },
  {
   "cell_type": "code",
   "execution_count": 8,
   "metadata": {},
   "outputs": [
    {
     "name": "stdout",
     "output_type": "stream",
     "text": [
      "=== score >= 2.000000 ===\n"
     ]
    },
    {
     "data": {
      "text/html": [
       "<div>\n",
       "<table border=\"1\" class=\"dataframe\">\n",
       "  <thead>\n",
       "    <tr style=\"text-align: right;\">\n",
       "      <th></th>\n",
       "      <th>all</th>\n",
       "    </tr>\n",
       "  </thead>\n",
       "  <tbody>\n",
       "    <tr>\n",
       "      <th>count</th>\n",
       "      <td>62.000000</td>\n",
       "    </tr>\n",
       "    <tr>\n",
       "      <th>mean</th>\n",
       "      <td>5.440954</td>\n",
       "    </tr>\n",
       "    <tr>\n",
       "      <th>std</th>\n",
       "      <td>8.090913</td>\n",
       "    </tr>\n",
       "    <tr>\n",
       "      <th>min</th>\n",
       "      <td>2.005279</td>\n",
       "    </tr>\n",
       "    <tr>\n",
       "      <th>25%</th>\n",
       "      <td>2.224759</td>\n",
       "    </tr>\n",
       "    <tr>\n",
       "      <th>50%</th>\n",
       "      <td>2.673329</td>\n",
       "    </tr>\n",
       "    <tr>\n",
       "      <th>75%</th>\n",
       "      <td>3.830145</td>\n",
       "    </tr>\n",
       "    <tr>\n",
       "      <th>max</th>\n",
       "      <td>41.145466</td>\n",
       "    </tr>\n",
       "  </tbody>\n",
       "</table>\n",
       "</div>"
      ],
      "text/plain": [
       "             all\n",
       "count  62.000000\n",
       "mean    5.440954\n",
       "std     8.090913\n",
       "min     2.005279\n",
       "25%     2.224759\n",
       "50%     2.673329\n",
       "75%     3.830145\n",
       "max    41.145466"
      ]
     },
     "metadata": {},
     "output_type": "display_data"
    },
    {
     "name": "stdout",
     "output_type": "stream",
     "text": [
      "=== -inf < score < 2.0 ===\n"
     ]
    },
    {
     "data": {
      "text/html": [
       "<div>\n",
       "<table border=\"1\" class=\"dataframe\">\n",
       "  <thead>\n",
       "    <tr style=\"text-align: right;\">\n",
       "      <th></th>\n",
       "      <th>all</th>\n",
       "    </tr>\n",
       "  </thead>\n",
       "  <tbody>\n",
       "    <tr>\n",
       "      <th>count</th>\n",
       "      <td>95764.000000</td>\n",
       "    </tr>\n",
       "    <tr>\n",
       "      <th>mean</th>\n",
       "      <td>0.605525</td>\n",
       "    </tr>\n",
       "    <tr>\n",
       "      <th>std</th>\n",
       "      <td>0.341827</td>\n",
       "    </tr>\n",
       "    <tr>\n",
       "      <th>min</th>\n",
       "      <td>-1.449001</td>\n",
       "    </tr>\n",
       "    <tr>\n",
       "      <th>25%</th>\n",
       "      <td>0.506676</td>\n",
       "    </tr>\n",
       "    <tr>\n",
       "      <th>50%</th>\n",
       "      <td>0.674929</td>\n",
       "    </tr>\n",
       "    <tr>\n",
       "      <th>75%</th>\n",
       "      <td>0.830140</td>\n",
       "    </tr>\n",
       "    <tr>\n",
       "      <th>max</th>\n",
       "      <td>1.988275</td>\n",
       "    </tr>\n",
       "  </tbody>\n",
       "</table>\n",
       "</div>"
      ],
      "text/plain": [
       "                all\n",
       "count  95764.000000\n",
       "mean       0.605525\n",
       "std        0.341827\n",
       "min       -1.449001\n",
       "25%        0.506676\n",
       "50%        0.674929\n",
       "75%        0.830140\n",
       "max        1.988275"
      ]
     },
     "metadata": {},
     "output_type": "display_data"
    },
    {
     "data": {
      "image/png": "[encoded data removed]",
      "text/plain": [
       "<matplotlib.figure.Figure at 0x7f0b69884090>"
      ]
     },
     "metadata": {},
     "output_type": "display_data"
    }
   ],
   "source": [
    "# 'score' 2.0보다 작은 경우만 분포 확인\n",
    "statsutil.feature_summary(svc_df, \"score\", max_hat=2.0)"
   ]
  },
  {
   "cell_type": "code",
   "execution_count": 9,
   "metadata": {},
   "outputs": [
    {
     "name": "stdout",
     "output_type": "stream",
     "text": [
      "=== score <= 0.000000 ===\n"
     ]
    },
    {
     "data": {
      "text/html": [
       "<div>\n",
       "<table border=\"1\" class=\"dataframe\">\n",
       "  <thead>\n",
       "    <tr style=\"text-align: right;\">\n",
       "      <th></th>\n",
       "      <th>all</th>\n",
       "    </tr>\n",
       "  </thead>\n",
       "  <tbody>\n",
       "    <tr>\n",
       "      <th>count</th>\n",
       "      <td>5.315000e+03</td>\n",
       "    </tr>\n",
       "    <tr>\n",
       "      <th>mean</th>\n",
       "      <td>-3.741902e-01</td>\n",
       "    </tr>\n",
       "    <tr>\n",
       "      <th>std</th>\n",
       "      <td>2.662635e-01</td>\n",
       "    </tr>\n",
       "    <tr>\n",
       "      <th>min</th>\n",
       "      <td>-1.449001e+00</td>\n",
       "    </tr>\n",
       "    <tr>\n",
       "      <th>25%</th>\n",
       "      <td>-6.023284e-01</td>\n",
       "    </tr>\n",
       "    <tr>\n",
       "      <th>50%</th>\n",
       "      <td>-4.065117e-01</td>\n",
       "    </tr>\n",
       "    <tr>\n",
       "      <th>75%</th>\n",
       "      <td>-1.435905e-01</td>\n",
       "    </tr>\n",
       "    <tr>\n",
       "      <th>max</th>\n",
       "      <td>-8.199000e-07</td>\n",
       "    </tr>\n",
       "  </tbody>\n",
       "</table>\n",
       "</div>"
      ],
      "text/plain": [
       "                all\n",
       "count  5.315000e+03\n",
       "mean  -3.741902e-01\n",
       "std    2.662635e-01\n",
       "min   -1.449001e+00\n",
       "25%   -6.023284e-01\n",
       "50%   -4.065117e-01\n",
       "75%   -1.435905e-01\n",
       "max   -8.199000e-07"
      ]
     },
     "metadata": {},
     "output_type": "display_data"
    },
    {
     "name": "stdout",
     "output_type": "stream",
     "text": [
      "=== score >= 2.000000 ===\n"
     ]
    },
    {
     "data": {
      "text/html": [
       "<div>\n",
       "<table border=\"1\" class=\"dataframe\">\n",
       "  <thead>\n",
       "    <tr style=\"text-align: right;\">\n",
       "      <th></th>\n",
       "      <th>all</th>\n",
       "    </tr>\n",
       "  </thead>\n",
       "  <tbody>\n",
       "    <tr>\n",
       "      <th>count</th>\n",
       "      <td>62.000000</td>\n",
       "    </tr>\n",
       "    <tr>\n",
       "      <th>mean</th>\n",
       "      <td>5.440954</td>\n",
       "    </tr>\n",
       "    <tr>\n",
       "      <th>std</th>\n",
       "      <td>8.090913</td>\n",
       "    </tr>\n",
       "    <tr>\n",
       "      <th>min</th>\n",
       "      <td>2.005279</td>\n",
       "    </tr>\n",
       "    <tr>\n",
       "      <th>25%</th>\n",
       "      <td>2.224759</td>\n",
       "    </tr>\n",
       "    <tr>\n",
       "      <th>50%</th>\n",
       "      <td>2.673329</td>\n",
       "    </tr>\n",
       "    <tr>\n",
       "      <th>75%</th>\n",
       "      <td>3.830145</td>\n",
       "    </tr>\n",
       "    <tr>\n",
       "      <th>max</th>\n",
       "      <td>41.145466</td>\n",
       "    </tr>\n",
       "  </tbody>\n",
       "</table>\n",
       "</div>"
      ],
      "text/plain": [
       "             all\n",
       "count  62.000000\n",
       "mean    5.440954\n",
       "std     8.090913\n",
       "min     2.005279\n",
       "25%     2.224759\n",
       "50%     2.673329\n",
       "75%     3.830145\n",
       "max    41.145466"
      ]
     },
     "metadata": {},
     "output_type": "display_data"
    },
    {
     "name": "stdout",
     "output_type": "stream",
     "text": [
      "=== 0.0 < score < 2.0 ===\n"
     ]
    },
    {
     "data": {
      "text/html": [
       "<div>\n",
       "<table border=\"1\" class=\"dataframe\">\n",
       "  <thead>\n",
       "    <tr style=\"text-align: right;\">\n",
       "      <th></th>\n",
       "      <th>all</th>\n",
       "    </tr>\n",
       "  </thead>\n",
       "  <tbody>\n",
       "    <tr>\n",
       "      <th>count</th>\n",
       "      <td>90449.000000</td>\n",
       "    </tr>\n",
       "    <tr>\n",
       "      <th>mean</th>\n",
       "      <td>0.663096</td>\n",
       "    </tr>\n",
       "    <tr>\n",
       "      <th>std</th>\n",
       "      <td>0.244600</td>\n",
       "    </tr>\n",
       "    <tr>\n",
       "      <th>min</th>\n",
       "      <td>0.000010</td>\n",
       "    </tr>\n",
       "    <tr>\n",
       "      <th>25%</th>\n",
       "      <td>0.544481</td>\n",
       "    </tr>\n",
       "    <tr>\n",
       "      <th>50%</th>\n",
       "      <td>0.689555</td>\n",
       "    </tr>\n",
       "    <tr>\n",
       "      <th>75%</th>\n",
       "      <td>0.836615</td>\n",
       "    </tr>\n",
       "    <tr>\n",
       "      <th>max</th>\n",
       "      <td>1.988275</td>\n",
       "    </tr>\n",
       "  </tbody>\n",
       "</table>\n",
       "</div>"
      ],
      "text/plain": [
       "                all\n",
       "count  90449.000000\n",
       "mean       0.663096\n",
       "std        0.244600\n",
       "min        0.000010\n",
       "25%        0.544481\n",
       "50%        0.689555\n",
       "75%        0.836615\n",
       "max        1.988275"
      ]
     },
     "metadata": {},
     "output_type": "display_data"
    },
    {
     "data": {
      "image/png": "[encoded data removed]",
      "text/plain": [
       "<matplotlib.figure.Figure at 0x7f0b696721d0>"
      ]
     },
     "metadata": {},
     "output_type": "display_data"
    }
   ],
   "source": [
    "# 0.0 < score < 2.0 사이의 분포만 확인\n",
    "statsutil.feature_summary(svc_df, \"score\", min_hat=0.0, max_hat=2.0)"
   ]
  },
  {
   "cell_type": "markdown",
   "metadata": {},
   "source": [
    "# util.edit_distance\n",
    "* 두 iterable의 edit distance를 구한다.\n",
    "* 현재는 levenshtein method만 지원."
   ]
  },
  {
   "cell_type": "code",
   "execution_count": 22,
   "metadata": {},
   "outputs": [
    {
     "data": {
      "text/plain": [
       "<module 'putils.util' from '/data1/users/jay.han/opt/anaconda2/lib/python2.7/site-packages/putils/util.pyc'>"
      ]
     },
     "execution_count": 22,
     "metadata": {},
     "output_type": "execute_result"
    }
   ],
   "source": [
    "reload(util)"
   ]
  },
  {
   "cell_type": "code",
   "execution_count": 23,
   "metadata": {},
   "outputs": [
    {
     "data": {
      "text/plain": [
       "3"
      ]
     },
     "execution_count": 23,
     "metadata": {},
     "output_type": "execute_result"
    }
   ],
   "source": [
    "s1 = \"abcd\"\n",
    "s2 = \"aaaa\"\n",
    "util.edit_distance(s1, s2)"
   ]
  },
  {
   "cell_type": "code",
   "execution_count": 24,
   "metadata": {
    "scrolled": true
   },
   "outputs": [
    {
     "data": {
      "text/plain": [
       "1"
      ]
     },
     "execution_count": 24,
     "metadata": {},
     "output_type": "execute_result"
    }
   ],
   "source": [
    "l1 = [\"http://www.daum.net/\", \"http://www.naver.com/\", \"http://www.google.com/\", \"http://www.kakao.com/\"]\n",
    "l2 = [\"http://www.abc.com/\", \"http://www.daum.net/\", \"http://www.naver.com/\", \"http://www.google.com/\", \"http://www.kakao.com/\"]\n",
    "util.edit_distance(l1, l2)"
   ]
  },
  {
   "cell_type": "code",
   "execution_count": 26,
   "metadata": {
    "scrolled": true
   },
   "outputs": [
    {
     "ename": "ValueError",
     "evalue": "arguments should be iterable.",
     "output_type": "error",
     "traceback": [
      "\u001b[1;31m---------------------------------------------------------------------------\u001b[0m",
      "\u001b[1;31mValueError\u001b[0m                                Traceback (most recent call last)",
      "\u001b[1;32m<ipython-input-26-0d9ea40d7a74>\u001b[0m in \u001b[0;36m<module>\u001b[1;34m()\u001b[0m\n\u001b[0;32m      1\u001b[0m \u001b[1;31m# argument가 iterable하지 않은 경우에는 ValueError.\u001b[0m\u001b[1;33m\u001b[0m\u001b[1;33m\u001b[0m\u001b[0m\n\u001b[1;32m----> 2\u001b[1;33m \u001b[0mutil\u001b[0m\u001b[1;33m.\u001b[0m\u001b[0medit_distance\u001b[0m\u001b[1;33m(\u001b[0m\u001b[1;34m\"abc\"\u001b[0m\u001b[1;33m,\u001b[0m \u001b[1;36m123\u001b[0m\u001b[1;33m)\u001b[0m\u001b[1;33m\u001b[0m\u001b[0m\n\u001b[0m",
      "\u001b[1;32m/data1/users/jay.han/opt/anaconda2/lib/python2.7/site-packages/putils/util.pyc\u001b[0m in \u001b[0;36medit_distance\u001b[1;34m(seq1, seq2, method)\u001b[0m\n\u001b[0;32m     45\u001b[0m     \"\"\"\n\u001b[0;32m     46\u001b[0m     \u001b[1;32mif\u001b[0m \u001b[1;32mnot\u001b[0m \u001b[0misinstance\u001b[0m\u001b[1;33m(\u001b[0m\u001b[0mseq1\u001b[0m\u001b[1;33m,\u001b[0m \u001b[0mcollections\u001b[0m\u001b[1;33m.\u001b[0m\u001b[0mIterable\u001b[0m\u001b[1;33m)\u001b[0m \u001b[1;32mor\u001b[0m \u001b[1;32mnot\u001b[0m \u001b[0misinstance\u001b[0m\u001b[1;33m(\u001b[0m\u001b[0mseq2\u001b[0m\u001b[1;33m,\u001b[0m \u001b[0mcollections\u001b[0m\u001b[1;33m.\u001b[0m\u001b[0mIterable\u001b[0m\u001b[1;33m)\u001b[0m\u001b[1;33m:\u001b[0m\u001b[1;33m\u001b[0m\u001b[0m\n\u001b[1;32m---> 47\u001b[1;33m         \u001b[1;32mraise\u001b[0m \u001b[0mValueError\u001b[0m\u001b[1;33m(\u001b[0m\u001b[1;34m\"arguments should be iterable.\"\u001b[0m\u001b[1;33m)\u001b[0m\u001b[1;33m\u001b[0m\u001b[0m\n\u001b[0m\u001b[0;32m     48\u001b[0m \u001b[1;33m\u001b[0m\u001b[0m\n\u001b[0;32m     49\u001b[0m     \u001b[1;32mif\u001b[0m \u001b[0mmethod\u001b[0m \u001b[1;33m!=\u001b[0m \u001b[1;34m\"levenshtein\"\u001b[0m\u001b[1;33m:\u001b[0m\u001b[1;33m\u001b[0m\u001b[0m\n",
      "\u001b[1;31mValueError\u001b[0m: arguments should be iterable."
     ]
    }
   ],
   "source": [
    "# argument가 iterable하지 않은 경우에는 ValueError.\n",
    "util.edit_distance(\"abc\", 123)"
   ]
  },
  {
   "cell_type": "markdown",
   "metadata": {},
   "source": [
    "# dfutil.read_json\n",
    "* line별로 json 포맷인 데이터 읽기\n",
    "* index_col로 row index 지정"
   ]
  },
  {
   "cell_type": "code",
   "execution_count": 9,
   "metadata": {},
   "outputs": [
    {
     "name": "stdout",
     "output_type": "stream",
     "text": [
      "{\"Query\":\"지방흡입\",\"Collection\":\"IVR\",\"DocID\":\"site_792480\",\"Score\":5.979560473123791}\r\n",
      "{\"Query\":\"상표권경매\",\"Collection\":\"IVR\",\"DocID\":\"site_1755848\",\"Score\":1.270177134549611}\r\n",
      "{\"Query\":\"부비동염수술\",\"Collection\":\"IVR\",\"DocID\":\"site_3295768\",\"Score\":0.31916357251017086}\r\n",
      "{\"Query\":\"연극뮤지컬\",\"Collection\":\"IVR\",\"DocID\":\"cafename_170644273\",\"Score\":0.7908084062795306}\r\n",
      "{\"Query\":\"matlabinuse\",\"Collection\":\"IVR\",\"DocID\":\"site_2034610\",\"Score\":0.8205179161220303}\r\n"
     ]
    }
   ],
   "source": [
    "!head -n 5 ./sample.txt"
   ]
  },
  {
   "cell_type": "code",
   "execution_count": 13,
   "metadata": {},
   "outputs": [
    {
     "data": {
      "text/html": [
       "<div>\n",
       "<table border=\"1\" class=\"dataframe\">\n",
       "  <thead>\n",
       "    <tr style=\"text-align: right;\">\n",
       "      <th></th>\n",
       "      <th>Collection</th>\n",
       "      <th>DocID</th>\n",
       "      <th>Query</th>\n",
       "      <th>Score</th>\n",
       "    </tr>\n",
       "  </thead>\n",
       "  <tbody>\n",
       "    <tr>\n",
       "      <th>0</th>\n",
       "      <td>IVR</td>\n",
       "      <td>site_792480</td>\n",
       "      <td>지방흡입</td>\n",
       "      <td>5.979560</td>\n",
       "    </tr>\n",
       "    <tr>\n",
       "      <th>1</th>\n",
       "      <td>IVR</td>\n",
       "      <td>site_1755848</td>\n",
       "      <td>상표권경매</td>\n",
       "      <td>1.270177</td>\n",
       "    </tr>\n",
       "    <tr>\n",
       "      <th>2</th>\n",
       "      <td>IVR</td>\n",
       "      <td>site_3295768</td>\n",
       "      <td>부비동염수술</td>\n",
       "      <td>0.319164</td>\n",
       "    </tr>\n",
       "    <tr>\n",
       "      <th>3</th>\n",
       "      <td>IVR</td>\n",
       "      <td>cafename_170644273</td>\n",
       "      <td>연극뮤지컬</td>\n",
       "      <td>0.790808</td>\n",
       "    </tr>\n",
       "    <tr>\n",
       "      <th>4</th>\n",
       "      <td>IVR</td>\n",
       "      <td>site_2034610</td>\n",
       "      <td>matlabinuse</td>\n",
       "      <td>0.820518</td>\n",
       "    </tr>\n",
       "  </tbody>\n",
       "</table>\n",
       "</div>"
      ],
      "text/plain": [
       "  Collection               DocID        Query     Score\n",
       "0        IVR         site_792480         지방흡입  5.979560\n",
       "1        IVR        site_1755848        상표권경매  1.270177\n",
       "2        IVR        site_3295768       부비동염수술  0.319164\n",
       "3        IVR  cafename_170644273        연극뮤지컬  0.790808\n",
       "4        IVR        site_2034610  matlabinuse  0.820518"
      ]
     },
     "execution_count": 13,
     "metadata": {},
     "output_type": "execute_result"
    }
   ],
   "source": [
    "dfutil.read_json(\"./sample.txt\").head()"
   ]
  },
  {
   "cell_type": "code",
   "execution_count": 16,
   "metadata": {},
   "outputs": [
    {
     "data": {
      "text/html": [
       "<div>\n",
       "<table border=\"1\" class=\"dataframe\">\n",
       "  <thead>\n",
       "    <tr style=\"text-align: right;\">\n",
       "      <th></th>\n",
       "      <th>Collection</th>\n",
       "      <th>DocID</th>\n",
       "      <th>Score</th>\n",
       "    </tr>\n",
       "    <tr>\n",
       "      <th>Query</th>\n",
       "      <th></th>\n",
       "      <th></th>\n",
       "      <th></th>\n",
       "    </tr>\n",
       "  </thead>\n",
       "  <tbody>\n",
       "    <tr>\n",
       "      <th>지방흡입</th>\n",
       "      <td>IVR</td>\n",
       "      <td>site_792480</td>\n",
       "      <td>5.979560</td>\n",
       "    </tr>\n",
       "    <tr>\n",
       "      <th>상표권경매</th>\n",
       "      <td>IVR</td>\n",
       "      <td>site_1755848</td>\n",
       "      <td>1.270177</td>\n",
       "    </tr>\n",
       "    <tr>\n",
       "      <th>부비동염수술</th>\n",
       "      <td>IVR</td>\n",
       "      <td>site_3295768</td>\n",
       "      <td>0.319164</td>\n",
       "    </tr>\n",
       "    <tr>\n",
       "      <th>연극뮤지컬</th>\n",
       "      <td>IVR</td>\n",
       "      <td>cafename_170644273</td>\n",
       "      <td>0.790808</td>\n",
       "    </tr>\n",
       "    <tr>\n",
       "      <th>matlabinuse</th>\n",
       "      <td>IVR</td>\n",
       "      <td>site_2034610</td>\n",
       "      <td>0.820518</td>\n",
       "    </tr>\n",
       "  </tbody>\n",
       "</table>\n",
       "</div>"
      ],
      "text/plain": [
       "            Collection               DocID     Score\n",
       "Query                                               \n",
       "지방흡입               IVR         site_792480  5.979560\n",
       "상표권경매              IVR        site_1755848  1.270177\n",
       "부비동염수술             IVR        site_3295768  0.319164\n",
       "연극뮤지컬              IVR  cafename_170644273  0.790808\n",
       "matlabinuse        IVR        site_2034610  0.820518"
      ]
     },
     "execution_count": 16,
     "metadata": {},
     "output_type": "execute_result"
    }
   ],
   "source": [
    "# 컬럼 하나를 row index로 사요하기\n",
    "dfutil.read_json(\"./sample.txt\", index_col=\"Query\").head()"
   ]
  },
  {
   "cell_type": "code",
   "execution_count": 17,
   "metadata": {},
   "outputs": [
    {
     "data": {
      "text/html": [
       "<div>\n",
       "<table border=\"1\" class=\"dataframe\">\n",
       "  <thead>\n",
       "    <tr style=\"text-align: right;\">\n",
       "      <th></th>\n",
       "      <th></th>\n",
       "      <th>Collection</th>\n",
       "      <th>Score</th>\n",
       "    </tr>\n",
       "    <tr>\n",
       "      <th>Query</th>\n",
       "      <th>DocID</th>\n",
       "      <th></th>\n",
       "      <th></th>\n",
       "    </tr>\n",
       "  </thead>\n",
       "  <tbody>\n",
       "    <tr>\n",
       "      <th>지방흡입</th>\n",
       "      <th>site_792480</th>\n",
       "      <td>IVR</td>\n",
       "      <td>5.979560</td>\n",
       "    </tr>\n",
       "    <tr>\n",
       "      <th>상표권경매</th>\n",
       "      <th>site_1755848</th>\n",
       "      <td>IVR</td>\n",
       "      <td>1.270177</td>\n",
       "    </tr>\n",
       "    <tr>\n",
       "      <th>부비동염수술</th>\n",
       "      <th>site_3295768</th>\n",
       "      <td>IVR</td>\n",
       "      <td>0.319164</td>\n",
       "    </tr>\n",
       "    <tr>\n",
       "      <th>연극뮤지컬</th>\n",
       "      <th>cafename_170644273</th>\n",
       "      <td>IVR</td>\n",
       "      <td>0.790808</td>\n",
       "    </tr>\n",
       "    <tr>\n",
       "      <th>matlabinuse</th>\n",
       "      <th>site_2034610</th>\n",
       "      <td>IVR</td>\n",
       "      <td>0.820518</td>\n",
       "    </tr>\n",
       "  </tbody>\n",
       "</table>\n",
       "</div>"
      ],
      "text/plain": [
       "                               Collection     Score\n",
       "Query       DocID                                  \n",
       "지방흡입        site_792480               IVR  5.979560\n",
       "상표권경매       site_1755848              IVR  1.270177\n",
       "부비동염수술      site_3295768              IVR  0.319164\n",
       "연극뮤지컬       cafename_170644273        IVR  0.790808\n",
       "matlabinuse site_2034610              IVR  0.820518"
      ]
     },
     "execution_count": 17,
     "metadata": {},
     "output_type": "execute_result"
    }
   ],
   "source": [
    "# 여러개 칼럼을 row multi index로 사용하기\n",
    "dfutil.read_json(\"./sample.txt\", index_col=[\"Query\", \"DocID\"]).head()"
   ]
  },
  {
   "cell_type": "markdown",
   "metadata": {},
   "source": [
    "# memory watching\n",
    "* 중지하려면 imu.stop_watching_memory() 호출."
   ]
  },
  {
   "cell_type": "code",
   "execution_count": 1,
   "metadata": {},
   "outputs": [
    {
     "name": "stdout",
     "output_type": "stream",
     "text": [
      "In [1] used 91.5859 MiB RAM in 0.13s, peaked 0.00 MiB above current, total RAM usage 181.54 MiB\n"
     ]
    }
   ],
   "source": [
    "a = np.ones(1e7)"
   ]
  },
  {
   "cell_type": "code",
   "execution_count": 2,
   "metadata": {},
   "outputs": [
    {
     "data": {
      "text/plain": [
       "array([ 1.,  1.,  1., ...,  1.,  1.,  1.])"
      ]
     },
     "execution_count": 2,
     "metadata": {},
     "output_type": "execute_result"
    },
    {
     "name": "stdout",
     "output_type": "stream",
     "text": [
      "In [2] used 0.1250 MiB RAM in 0.12s, peaked 0.00 MiB above current, total RAM usage 181.66 MiB\n"
     ]
    }
   ],
   "source": [
    "a"
   ]
  }
 ],
 "metadata": {
  "kernelspec": {
   "display_name": "Python 2",
   "language": "python",
   "name": "python2"
  },
  "language_info": {
   "codemirror_mode": {
    "name": "ipython",
    "version": 2
   },
   "file_extension": ".py",
   "mimetype": "text/x-python",
   "name": "python",
   "nbconvert_exporter": "python",
   "pygments_lexer": "ipython2",
   "version": "2.7.13"
  }
 },
 "nbformat": 4,
 "nbformat_minor": 1
}
