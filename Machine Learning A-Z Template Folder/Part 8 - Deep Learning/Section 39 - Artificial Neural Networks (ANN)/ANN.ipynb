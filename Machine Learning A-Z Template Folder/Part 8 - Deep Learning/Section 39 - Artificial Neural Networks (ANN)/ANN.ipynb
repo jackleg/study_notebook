{
 "cells": [
  {
   "cell_type": "code",
   "execution_count": 1,
   "metadata": {},
   "outputs": [
    {
     "name": "stdout",
     "output_type": "stream",
     "text": [
      "In [1] used 18.2266 MiB RAM in 0.12s, peaked 0.00 MiB above current, total RAM usage 97.24 MiB\n"
     ]
    }
   ],
   "source": [
    "# Artificial Neural Network\n",
    "\n",
    "# Installing Theano\n",
    "# pip install --upgrade --no-deps git+git://github.com/Theano/Theano.git\n",
    "\n",
    "# Installing Tensorflow\n",
    "# Install Tensorflow from the website: https://www.tensorflow.org/versions/r0.12/get_started/os_setup.html\n",
    "\n",
    "# Installing Keras\n",
    "# pip install --upgrade keras\n",
    "\n",
    "# Part 1 - Data Preprocessing"
   ]
  },
  {
   "cell_type": "code",
   "execution_count": 2,
   "metadata": {},
   "outputs": [
    {
     "name": "stdout",
     "output_type": "stream",
     "text": [
      "In [2] used 0.0859 MiB RAM in 0.11s, peaked 0.00 MiB above current, total RAM usage 97.32 MiB\n"
     ]
    }
   ],
   "source": [
    "# Importing the libraries\n",
    "import numpy as np\n",
    "import matplotlib.pyplot as plt\n",
    "import pandas as pd"
   ]
  },
  {
   "cell_type": "code",
   "execution_count": 3,
   "metadata": {},
   "outputs": [
    {
     "name": "stdout",
     "output_type": "stream",
     "text": [
      "In [3] used 7.9805 MiB RAM in 0.15s, peaked 0.00 MiB above current, total RAM usage 105.30 MiB\n"
     ]
    }
   ],
   "source": [
    "# Importing the dataset\n",
    "dataset = pd.read_csv('Churn_Modelling.csv')\n",
    "X = dataset.iloc[:, 3:13].values\n",
    "y = dataset.iloc[:, 13].values"
   ]
  },
  {
   "cell_type": "code",
   "execution_count": 4,
   "metadata": {},
   "outputs": [
    {
     "name": "stdout",
     "output_type": "stream",
     "text": [
      "In [4] used 4.6992 MiB RAM in 0.13s, peaked 0.00 MiB above current, total RAM usage 110.00 MiB\n"
     ]
    }
   ],
   "source": [
    "# Encoding categorical data\n",
    "from sklearn.preprocessing import LabelEncoder, OneHotEncoder\n",
    "\n",
    "# Country\n",
    "labelencoder_X_1 = LabelEncoder()\n",
    "X[:, 1] = labelencoder_X_1.fit_transform(X[:, 1])\n",
    "\n",
    "# Gender\n",
    "labelencoder_X_2 = LabelEncoder()\n",
    "X[:, 2] = labelencoder_X_2.fit_transform(X[:, 2])\n",
    "\n",
    "onehotencoder = OneHotEncoder(categorical_features=[1])\n",
    "X = onehotencoder.fit_transform(X).toarray()\n",
    "\n",
    "# dummy variable trap을 피하기 위해 categorical variable 하나를 제거함.\n",
    "X = X[:, 1:]"
   ]
  },
  {
   "cell_type": "code",
   "execution_count": 5,
   "metadata": {},
   "outputs": [
    {
     "name": "stdout",
     "output_type": "stream",
     "text": [
      "In [5] used 0.3750 MiB RAM in 0.12s, peaked 0.00 MiB above current, total RAM usage 110.38 MiB\n"
     ]
    }
   ],
   "source": [
    "# Splitting the dataset into the Training set and Test set\n",
    "from sklearn.model_selection import train_test_split\n",
    "X_train, X_test, y_train, y_test = train_test_split(X, y, test_size=0.2, random_state=0)"
   ]
  },
  {
   "cell_type": "code",
   "execution_count": 6,
   "metadata": {},
   "outputs": [
    {
     "name": "stdout",
     "output_type": "stream",
     "text": [
      "In [6] used 0.1719 MiB RAM in 0.11s, peaked 0.00 MiB above current, total RAM usage 110.55 MiB\n"
     ]
    }
   ],
   "source": [
    "# Feature Scaling\n",
    "from sklearn.preprocessing import StandardScaler\n",
    "sc = StandardScaler()\n",
    "X_train = sc.fit_transform(X_train)\n",
    "X_test = sc.transform(X_test)"
   ]
  },
  {
   "cell_type": "code",
   "execution_count": 7,
   "metadata": {},
   "outputs": [
    {
     "name": "stderr",
     "output_type": "stream",
     "text": [
      "Using TensorFlow backend.\n"
     ]
    },
    {
     "name": "stdout",
     "output_type": "stream",
     "text": [
      "In [7] used 56.4062 MiB RAM in 2.21s, peaked 0.00 MiB above current, total RAM usage 166.96 MiB\n"
     ]
    }
   ],
   "source": [
    "import keras"
   ]
  },
  {
   "cell_type": "code",
   "execution_count": 8,
   "metadata": {},
   "outputs": [
    {
     "name": "stdout",
     "output_type": "stream",
     "text": [
      "In [8] used 0.7109 MiB RAM in 0.10s, peaked 0.00 MiB above current, total RAM usage 167.67 MiB\n"
     ]
    }
   ],
   "source": [
    "from keras.models import Sequential\n",
    "from keras.layers import Dense"
   ]
  },
  {
   "cell_type": "code",
   "execution_count": 9,
   "metadata": {},
   "outputs": [
    {
     "name": "stdout",
     "output_type": "stream",
     "text": [
      "In [9] used 0.0312 MiB RAM in 0.10s, peaked 0.00 MiB above current, total RAM usage 167.70 MiB\n"
     ]
    }
   ],
   "source": [
    "# Initializing the ANN\n",
    "classifier = Sequential()"
   ]
  },
  {
   "cell_type": "code",
   "execution_count": 10,
   "metadata": {},
   "outputs": [
    {
     "name": "stdout",
     "output_type": "stream",
     "text": [
      "In [10] used 2.0977 MiB RAM in 0.14s, peaked 0.00 MiB above current, total RAM usage 169.80 MiB\n"
     ]
    },
    {
     "name": "stderr",
     "output_type": "stream",
     "text": [
      "/Users/1003946/anaconda2/lib/python2.7/site-packages/ipykernel_launcher.py:2: UserWarning: Update your `Dense` call to the Keras 2 API: `Dense(kernel_initializer=\"uniform\", activation=\"relu\", input_dim=11, units=6)`\n",
      "  \n"
     ]
    }
   ],
   "source": [
    "# adding the input layer and the first hidden layer\n",
    "classifier.add(Dense(output_dim=6, init='uniform', activation='relu', input_dim=11))"
   ]
  },
  {
   "cell_type": "code",
   "execution_count": 11,
   "metadata": {},
   "outputs": [
    {
     "name": "stdout",
     "output_type": "stream",
     "text": [
      "In [11] used 0.1992 MiB RAM in 0.12s, peaked 0.00 MiB above current, total RAM usage 170.00 MiB\n"
     ]
    },
    {
     "name": "stderr",
     "output_type": "stream",
     "text": [
      "/Users/1003946/anaconda2/lib/python2.7/site-packages/ipykernel_launcher.py:2: UserWarning: Update your `Dense` call to the Keras 2 API: `Dense(units=6, activation=\"relu\", kernel_initializer=\"uniform\")`\n",
      "  \n"
     ]
    }
   ],
   "source": [
    "# adding the second hidden layer\n",
    "classifier.add(Dense(output_dim=6, init='uniform', activation='relu'))"
   ]
  },
  {
   "cell_type": "code",
   "execution_count": 12,
   "metadata": {},
   "outputs": [
    {
     "name": "stdout",
     "output_type": "stream",
     "text": [
      "In [12] used 0.1836 MiB RAM in 0.12s, peaked 0.00 MiB above current, total RAM usage 170.18 MiB\n"
     ]
    },
    {
     "name": "stderr",
     "output_type": "stream",
     "text": [
      "/Users/1003946/anaconda2/lib/python2.7/site-packages/ipykernel_launcher.py:2: UserWarning: Update your `Dense` call to the Keras 2 API: `Dense(units=1, activation=\"sigmoid\", kernel_initializer=\"uniform\")`\n",
      "  \n"
     ]
    }
   ],
   "source": [
    "# adding the output layer\n",
    "classifier.add(Dense(output_dim=1, init='uniform', activation='sigmoid'))"
   ]
  },
  {
   "cell_type": "code",
   "execution_count": 15,
   "metadata": {},
   "outputs": [
    {
     "name": "stdout",
     "output_type": "stream",
     "text": [
      "In [15] used 0.3242 MiB RAM in 0.15s, peaked 0.00 MiB above current, total RAM usage 173.46 MiB\n"
     ]
    }
   ],
   "source": [
    "# Compiling the ANN\n",
    "classifier.compile(optimizer='adam', loss='binary_crossentropy', metrics=['accuracy'])"
   ]
  },
  {
   "cell_type": "code",
   "execution_count": 16,
   "metadata": {},
   "outputs": [
    {
     "name": "stderr",
     "output_type": "stream",
     "text": [
      "/Users/1003946/anaconda2/lib/python2.7/site-packages/keras/models.py:942: UserWarning: The `nb_epoch` argument in `fit` has been renamed `epochs`.\n",
      "  warnings.warn('The `nb_epoch` argument in `fit` '\n"
     ]
    },
    {
     "name": "stdout",
     "output_type": "stream",
     "text": [
      "Epoch 1/100\n",
      "8000/8000 [==============================] - 2s 232us/step - loss: 0.4815 - acc: 0.7955\n",
      "Epoch 2/100\n",
      "8000/8000 [==============================] - 2s 216us/step - loss: 0.4255 - acc: 0.7960\n",
      "Epoch 3/100\n",
      "8000/8000 [==============================] - 2s 211us/step - loss: 0.4205 - acc: 0.8032\n",
      "Epoch 4/100\n",
      "8000/8000 [==============================] - 2s 213us/step - loss: 0.4170 - acc: 0.8244\n",
      "Epoch 5/100\n",
      "8000/8000 [==============================] - 2s 230us/step - loss: 0.4149 - acc: 0.8300\n",
      "Epoch 6/100\n",
      "8000/8000 [==============================] - 2s 226us/step - loss: 0.4134 - acc: 0.8311\n",
      "Epoch 7/100\n",
      "8000/8000 [==============================] - 2s 238us/step - loss: 0.4118 - acc: 0.8315\n",
      "Epoch 8/100\n",
      "8000/8000 [==============================] - 2s 233us/step - loss: 0.4102 - acc: 0.8312\n",
      "Epoch 9/100\n",
      "8000/8000 [==============================] - 2s 231us/step - loss: 0.4096 - acc: 0.8335\n",
      "Epoch 10/100\n",
      "8000/8000 [==============================] - 2s 236us/step - loss: 0.4091 - acc: 0.8345\n",
      "Epoch 11/100\n",
      "8000/8000 [==============================] - 2s 214us/step - loss: 0.4087 - acc: 0.8345 0s - loss: 0.405\n",
      "Epoch 12/100\n",
      "8000/8000 [==============================] - 2s 214us/step - loss: 0.4073 - acc: 0.8345\n",
      "Epoch 13/100\n",
      "8000/8000 [==============================] - 2s 216us/step - loss: 0.4070 - acc: 0.8334\n",
      "Epoch 14/100\n",
      "8000/8000 [==============================] - 2s 235us/step - loss: 0.4065 - acc: 0.8349\n",
      "Epoch 15/100\n",
      "8000/8000 [==============================] - 2s 226us/step - loss: 0.4064 - acc: 0.8347\n",
      "Epoch 16/100\n",
      "8000/8000 [==============================] - 2s 211us/step - loss: 0.4059 - acc: 0.8340 0s - loss: 0.40\n",
      "Epoch 17/100\n",
      "8000/8000 [==============================] - 2s 213us/step - loss: 0.4052 - acc: 0.8352 1s -\n",
      "Epoch 18/100\n",
      "8000/8000 [==============================] - 2s 213us/step - loss: 0.4048 - acc: 0.8356\n",
      "Epoch 19/100\n",
      "8000/8000 [==============================] - 2s 213us/step - loss: 0.4046 - acc: 0.8351\n",
      "Epoch 20/100\n",
      "8000/8000 [==============================] - 2s 220us/step - loss: 0.4041 - acc: 0.8336\n",
      "Epoch 21/100\n",
      "8000/8000 [==============================] - 2s 216us/step - loss: 0.4045 - acc: 0.8339\n",
      "Epoch 22/100\n",
      "8000/8000 [==============================] - 2s 216us/step - loss: 0.4039 - acc: 0.8340\n",
      "Epoch 23/100\n",
      "8000/8000 [==============================] - 2s 215us/step - loss: 0.4036 - acc: 0.8351\n",
      "Epoch 24/100\n",
      "8000/8000 [==============================] - 2s 224us/step - loss: 0.4040 - acc: 0.8336\n",
      "Epoch 25/100\n",
      "8000/8000 [==============================] - 2s 216us/step - loss: 0.4031 - acc: 0.8339\n",
      "Epoch 26/100\n",
      "8000/8000 [==============================] - 2s 217us/step - loss: 0.4030 - acc: 0.8347\n",
      "Epoch 27/100\n",
      "8000/8000 [==============================] - 2s 219us/step - loss: 0.4028 - acc: 0.8346\n",
      "Epoch 28/100\n",
      "8000/8000 [==============================] - 2s 216us/step - loss: 0.4034 - acc: 0.8342\n",
      "Epoch 29/100\n",
      "8000/8000 [==============================] - 2s 218us/step - loss: 0.4031 - acc: 0.8344\n",
      "Epoch 30/100\n",
      "8000/8000 [==============================] - 2s 215us/step - loss: 0.4029 - acc: 0.8347\n",
      "Epoch 31/100\n",
      "8000/8000 [==============================] - 2s 216us/step - loss: 0.4022 - acc: 0.8340\n",
      "Epoch 32/100\n",
      "8000/8000 [==============================] - 2s 217us/step - loss: 0.4024 - acc: 0.8344\n",
      "Epoch 33/100\n",
      "8000/8000 [==============================] - 2s 215us/step - loss: 0.4027 - acc: 0.8347 0s - loss: 0.4009 - acc:\n",
      "Epoch 34/100\n",
      "8000/8000 [==============================] - 2s 218us/step - loss: 0.4024 - acc: 0.8330\n",
      "Epoch 35/100\n",
      "8000/8000 [==============================] - 2s 216us/step - loss: 0.4024 - acc: 0.8360\n",
      "Epoch 36/100\n",
      "8000/8000 [==============================] - 2s 218us/step - loss: 0.4022 - acc: 0.8344\n",
      "Epoch 37/100\n",
      "8000/8000 [==============================] - 2s 214us/step - loss: 0.4018 - acc: 0.8352\n",
      "Epoch 38/100\n",
      "8000/8000 [==============================] - 2s 216us/step - loss: 0.4018 - acc: 0.8350\n",
      "Epoch 39/100\n",
      "8000/8000 [==============================] - 2s 216us/step - loss: 0.4017 - acc: 0.8329 0s - loss: 0.409\n",
      "Epoch 40/100\n",
      "8000/8000 [==============================] - 2s 217us/step - loss: 0.4018 - acc: 0.8345\n",
      "Epoch 41/100\n",
      "8000/8000 [==============================] - 2s 216us/step - loss: 0.4016 - acc: 0.8357\n",
      "Epoch 42/100\n",
      "8000/8000 [==============================] - 2s 218us/step - loss: 0.4014 - acc: 0.8356\n",
      "Epoch 43/100\n",
      "8000/8000 [==============================] - 2s 219us/step - loss: 0.4017 - acc: 0.8344 0s - loss: 0.4015 \n",
      "Epoch 44/100\n",
      "8000/8000 [==============================] - 2s 218us/step - loss: 0.4018 - acc: 0.8364\n",
      "Epoch 45/100\n",
      "8000/8000 [==============================] - 2s 217us/step - loss: 0.4011 - acc: 0.8356\n",
      "Epoch 46/100\n",
      "8000/8000 [==============================] - 2s 215us/step - loss: 0.4013 - acc: 0.8355\n",
      "Epoch 47/100\n",
      "8000/8000 [==============================] - 2s 218us/step - loss: 0.4006 - acc: 0.8354\n",
      "Epoch 48/100\n",
      "8000/8000 [==============================] - 2s 224us/step - loss: 0.4007 - acc: 0.8352\n",
      "Epoch 49/100\n",
      "8000/8000 [==============================] - 2s 219us/step - loss: 0.4007 - acc: 0.8346\n",
      "Epoch 50/100\n",
      "8000/8000 [==============================] - 2s 217us/step - loss: 0.4009 - acc: 0.8360 0s - loss: 0.4044 - acc: 0\n",
      "Epoch 51/100\n",
      "8000/8000 [==============================] - 2s 222us/step - loss: 0.4004 - acc: 0.8342\n",
      "Epoch 52/100\n",
      "8000/8000 [==============================] - 2s 219us/step - loss: 0.4007 - acc: 0.8351\n",
      "Epoch 53/100\n",
      "8000/8000 [==============================] - 2s 217us/step - loss: 0.4004 - acc: 0.8355\n",
      "Epoch 54/100\n",
      "8000/8000 [==============================] - 2s 220us/step - loss: 0.4006 - acc: 0.8347\n",
      "Epoch 55/100\n",
      "8000/8000 [==============================] - 2s 229us/step - loss: 0.4005 - acc: 0.8367 0s - loss: 0.4025 - acc: 0.\n",
      "Epoch 56/100\n",
      "8000/8000 [==============================] - 2s 224us/step - loss: 0.4005 - acc: 0.8346\n",
      "Epoch 57/100\n",
      "8000/8000 [==============================] - 2s 222us/step - loss: 0.4003 - acc: 0.8352\n",
      "Epoch 58/100\n",
      "8000/8000 [==============================] - 2s 221us/step - loss: 0.3998 - acc: 0.8357\n",
      "Epoch 59/100\n",
      "8000/8000 [==============================] - 2s 221us/step - loss: 0.4003 - acc: 0.8371\n",
      "Epoch 60/100\n",
      "8000/8000 [==============================] - 2s 220us/step - loss: 0.4007 - acc: 0.8349\n",
      "Epoch 61/100\n",
      "8000/8000 [==============================] - 2s 217us/step - loss: 0.3999 - acc: 0.8359\n",
      "Epoch 62/100\n",
      "8000/8000 [==============================] - 2s 222us/step - loss: 0.3997 - acc: 0.8356\n",
      "Epoch 63/100\n",
      "8000/8000 [==============================] - 2s 220us/step - loss: 0.4001 - acc: 0.8350\n",
      "Epoch 64/100\n",
      "8000/8000 [==============================] - 2s 221us/step - loss: 0.3992 - acc: 0.8356\n",
      "Epoch 65/100\n",
      "8000/8000 [==============================] - 2s 222us/step - loss: 0.3993 - acc: 0.8355\n",
      "Epoch 66/100\n",
      "8000/8000 [==============================] - 2s 220us/step - loss: 0.4000 - acc: 0.8334\n",
      "Epoch 67/100\n",
      "8000/8000 [==============================] - 2s 219us/step - loss: 0.3999 - acc: 0.8342\n",
      "Epoch 68/100\n",
      "8000/8000 [==============================] - 2s 223us/step - loss: 0.3996 - acc: 0.8350\n",
      "Epoch 69/100\n",
      "8000/8000 [==============================] - 2s 219us/step - loss: 0.4001 - acc: 0.8350\n",
      "Epoch 70/100\n",
      "8000/8000 [==============================] - 2s 220us/step - loss: 0.3999 - acc: 0.8337\n",
      "Epoch 71/100\n",
      "8000/8000 [==============================] - 2s 247us/step - loss: 0.4001 - acc: 0.8361\n",
      "Epoch 72/100\n",
      "8000/8000 [==============================] - 2s 235us/step - loss: 0.3996 - acc: 0.8350\n",
      "Epoch 73/100\n",
      "8000/8000 [==============================] - 2s 239us/step - loss: 0.4000 - acc: 0.8364\n",
      "Epoch 74/100\n",
      "8000/8000 [==============================] - 2s 222us/step - loss: 0.3999 - acc: 0.8349 0s - loss: 0.3988 - acc: 0.83\n",
      "Epoch 75/100\n",
      "8000/8000 [==============================] - 2s 221us/step - loss: 0.3994 - acc: 0.8346\n",
      "Epoch 76/100\n",
      "8000/8000 [==============================] - 2s 224us/step - loss: 0.3999 - acc: 0.8367\n",
      "Epoch 77/100\n",
      "8000/8000 [==============================] - 2s 222us/step - loss: 0.3997 - acc: 0.8359 0s - loss: 0.3946 \n",
      "Epoch 78/100\n",
      "8000/8000 [==============================] - 2s 233us/step - loss: 0.3993 - acc: 0.8370\n",
      "Epoch 79/100\n",
      "8000/8000 [==============================] - 2s 226us/step - loss: 0.3991 - acc: 0.8351\n",
      "Epoch 80/100\n"
     ]
    },
    {
     "name": "stdout",
     "output_type": "stream",
     "text": [
      "8000/8000 [==============================] - 2s 210us/step - loss: 0.4000 - acc: 0.8357\n",
      "Epoch 81/100\n",
      "8000/8000 [==============================] - 2s 232us/step - loss: 0.3993 - acc: 0.8355\n",
      "Epoch 82/100\n",
      "8000/8000 [==============================] - 2s 220us/step - loss: 0.3996 - acc: 0.8351\n",
      "Epoch 83/100\n",
      "8000/8000 [==============================] - 2s 209us/step - loss: 0.3995 - acc: 0.8354\n",
      "Epoch 84/100\n",
      "8000/8000 [==============================] - 2s 211us/step - loss: 0.3996 - acc: 0.8357\n",
      "Epoch 85/100\n",
      "8000/8000 [==============================] - 2s 220us/step - loss: 0.3995 - acc: 0.8346 0s - loss: 0.3987 - acc: 0.83 - ETA: 0s - loss: 0.3999 \n",
      "Epoch 86/100\n",
      "8000/8000 [==============================] - 2s 229us/step - loss: 0.3995 - acc: 0.8352\n",
      "Epoch 87/100\n",
      "8000/8000 [==============================] - 2s 228us/step - loss: 0.3998 - acc: 0.8344\n",
      "Epoch 88/100\n",
      "8000/8000 [==============================] - 2s 216us/step - loss: 0.3995 - acc: 0.8344\n",
      "Epoch 89/100\n",
      "8000/8000 [==============================] - 2s 235us/step - loss: 0.3998 - acc: 0.8357\n",
      "Epoch 90/100\n",
      "8000/8000 [==============================] - 2s 224us/step - loss: 0.3996 - acc: 0.8339\n",
      "Epoch 91/100\n",
      "8000/8000 [==============================] - 2s 221us/step - loss: 0.3989 - acc: 0.8354\n",
      "Epoch 92/100\n",
      "8000/8000 [==============================] - 2s 216us/step - loss: 0.3996 - acc: 0.8356 0s - loss: \n",
      "Epoch 93/100\n",
      "8000/8000 [==============================] - 2s 221us/step - loss: 0.3994 - acc: 0.8362\n",
      "Epoch 94/100\n",
      "8000/8000 [==============================] - 2s 221us/step - loss: 0.3995 - acc: 0.8355\n",
      "Epoch 95/100\n",
      "8000/8000 [==============================] - 2s 222us/step - loss: 0.3991 - acc: 0.8357\n",
      "Epoch 96/100\n",
      "8000/8000 [==============================] - 2s 225us/step - loss: 0.3997 - acc: 0.8355\n",
      "Epoch 97/100\n",
      "8000/8000 [==============================] - 2s 222us/step - loss: 0.3993 - acc: 0.8364\n",
      "Epoch 98/100\n",
      "8000/8000 [==============================] - 2s 216us/step - loss: 0.3991 - acc: 0.8340\n",
      "Epoch 99/100\n",
      "8000/8000 [==============================] - 2s 220us/step - loss: 0.3993 - acc: 0.8344\n",
      "Epoch 100/100\n",
      "8000/8000 [==============================] - 2s 216us/step - loss: 0.3998 - acc: 0.8349\n"
     ]
    },
    {
     "data": {
      "text/plain": [
       "<keras.callbacks.History at 0x11271bed0>"
      ]
     },
     "execution_count": 16,
     "metadata": {},
     "output_type": "execute_result"
    },
    {
     "name": "stdout",
     "output_type": "stream",
     "text": [
      "In [16] used 12.6602 MiB RAM in 177.16s, peaked 0.00 MiB above current, total RAM usage 186.12 MiB\n"
     ]
    }
   ],
   "source": [
    "classifier.fit(X_train, y_train, batch_size=10, nb_epoch=100)"
   ]
  },
  {
   "cell_type": "code",
   "execution_count": 20,
   "metadata": {},
   "outputs": [
    {
     "data": {
      "text/plain": [
       "array([[1545,   50],\n",
       "       [ 264,  141]])"
      ]
     },
     "execution_count": 20,
     "metadata": {},
     "output_type": "execute_result"
    },
    {
     "name": "stdout",
     "output_type": "stream",
     "text": [
      "In [20] used 0.0039 MiB RAM in 0.15s, peaked 0.00 MiB above current, total RAM usage 187.54 MiB\n"
     ]
    }
   ],
   "source": [
    "# predicting the Test set results\n",
    "y_pred = classifier.predict(X_test)\n",
    "y_pred = (y_pred > 0.5)\n",
    "\n",
    "from sklearn.metrics import confusion_matrix\n",
    "cm = confusion_matrix(y_test, y_pred)\n",
    "cm"
   ]
  },
  {
   "cell_type": "code",
   "execution_count": 22,
   "metadata": {},
   "outputs": [
    {
     "data": {
      "text/plain": [
       "0.843"
      ]
     },
     "execution_count": 22,
     "metadata": {},
     "output_type": "execute_result"
    },
    {
     "name": "stdout",
     "output_type": "stream",
     "text": [
      "In [22] used 0.0000 MiB RAM in 0.11s, peaked 0.00 MiB above current, total RAM usage 187.54 MiB\n"
     ]
    }
   ],
   "source": [
    "(1545 + 141) / 2000.0"
   ]
  }
 ],
 "metadata": {
  "kernelspec": {
   "display_name": "Python 2",
   "language": "python",
   "name": "python2"
  },
  "language_info": {
   "codemirror_mode": {
    "name": "ipython",
    "version": 2
   },
   "file_extension": ".py",
   "mimetype": "text/x-python",
   "name": "python",
   "nbconvert_exporter": "python",
   "pygments_lexer": "ipython2",
   "version": "2.7.14"
  }
 },
 "nbformat": 4,
 "nbformat_minor": 2
}
