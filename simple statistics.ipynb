{
 "cells": [
  {
   "cell_type": "markdown",
   "metadata": {},
   "source": [
    "* pycon2016\n",
    "* Basic Statistics with Python\n",
    "* https://github.com/pythonkr/pyconapac-2016-files/raw/master/20160813-105-12-ArisBudiWibowo.pdf"
   ]
  },
  {
   "cell_type": "code",
   "execution_count": 1,
   "metadata": {
    "collapsed": false
   },
   "outputs": [
    {
     "name": "stdout",
     "output_type": "stream",
     "text": [
      "In [1] used 16.0625 MiB RAM in 0.11s, peaked 0.00 MiB above current, total RAM usage 97.17 MiB\n"
     ]
    }
   ],
   "source": [
    "import numpy as np\n",
    "import pandas as pd\n",
    "import scipy as sp"
   ]
  },
  {
   "cell_type": "code",
   "execution_count": 2,
   "metadata": {
    "collapsed": false
   },
   "outputs": [
    {
     "name": "stdout",
     "output_type": "stream",
     "text": [
      "[ 1.76405235  0.40015721  0.97873798  2.2408932   1.86755799 -0.97727788\n",
      "  0.95008842 -0.15135721 -0.10321885  0.4105985 ]\n",
      "In [2] used 0.4648 MiB RAM in 0.11s, peaked 0.00 MiB above current, total RAM usage 97.63 MiB\n"
     ]
    }
   ],
   "source": [
    "np.random.seed(0)\n",
    "s = sp.randn(10)\n",
    "print (s)"
   ]
  },
  {
   "cell_type": "code",
   "execution_count": 3,
   "metadata": {
    "collapsed": false
   },
   "outputs": [
    {
     "name": "stdout",
     "output_type": "stream",
     "text": [
      "Mean: 0.738023\n",
      "Variance: 0.935242\n",
      "Standard Deviation: 0.967079\n",
      "Min: -0.977278\n",
      "Max: 2.240893\n",
      "Range: 3.218171\n",
      "In [3] used 0.0547 MiB RAM in 0.11s, peaked 0.00 MiB above current, total RAM usage 97.69 MiB\n"
     ]
    }
   ],
   "source": [
    "print(\"Mean: {0:8.6f}\".format(s.mean()))\n",
    "print(\"Variance: {0:8.6f}\".format(s.var()))\n",
    "print(\"Standard Deviation: {0:8.6f}\".format(s.std()))\n",
    "print(\"Min: {0:8.6f}\".format(s.min()))\n",
    "print(\"Max: {0:8.6f}\".format(s.max()))\n",
    "print(\"Range: {0:8.6f}\".format(np.ptp(s))) # peek to peek"
   ]
  },
  {
   "cell_type": "code",
   "execution_count": 4,
   "metadata": {
    "collapsed": false
   },
   "outputs": [
    {
     "name": "stdout",
     "output_type": "stream",
     "text": [
      "Mean: 0.738023\n",
      "Variance: 0.935242\n",
      "Standard Deviation: 0.967079\n"
     ]
    },
    {
     "data": {
      "text/plain": [
       "DescribeResult(nobs=10, minmax=(-0.97727787987641102, 2.2408931992014578), mean=0.73802317072883472, variance=1.0391580005558709, skewness=-0.05309450487507253, kurtosis=-0.982036296214218)"
      ]
     },
     "execution_count": 4,
     "metadata": {},
     "output_type": "execute_result"
    },
    {
     "name": "stdout",
     "output_type": "stream",
     "text": [
      "In [4] used 0.0742 MiB RAM in 0.11s, peaked 0.00 MiB above current, total RAM usage 97.76 MiB\n"
     ]
    }
   ],
   "source": [
    "print(\"Mean: {0:8.6f}\".format(sp.mean(s)))\n",
    "print(\"Variance: {0:8.6f}\".format(sp.var(s)))\n",
    "print(\"Standard Deviation: {0:8.6f}\".format(sp.std(s)))\n",
    "\n",
    "sp.stats.describe(s)"
   ]
  },
  {
   "cell_type": "code",
   "execution_count": 5,
   "metadata": {
    "collapsed": false
   },
   "outputs": [
    {
     "data": {
      "text/html": [
       "<div>\n",
       "<table border=\"1\" class=\"dataframe\">\n",
       "  <thead>\n",
       "    <tr style=\"text-align: right;\">\n",
       "      <th></th>\n",
       "      <th>s</th>\n",
       "    </tr>\n",
       "  </thead>\n",
       "  <tbody>\n",
       "    <tr>\n",
       "      <th>count</th>\n",
       "      <td>10.000000</td>\n",
       "    </tr>\n",
       "    <tr>\n",
       "      <th>mean</th>\n",
       "      <td>0.738023</td>\n",
       "    </tr>\n",
       "    <tr>\n",
       "      <th>std</th>\n",
       "      <td>1.019391</td>\n",
       "    </tr>\n",
       "    <tr>\n",
       "      <th>min</th>\n",
       "      <td>-0.977278</td>\n",
       "    </tr>\n",
       "    <tr>\n",
       "      <th>25%</th>\n",
       "      <td>0.022625</td>\n",
       "    </tr>\n",
       "    <tr>\n",
       "      <th>50%</th>\n",
       "      <td>0.680343</td>\n",
       "    </tr>\n",
       "    <tr>\n",
       "      <th>75%</th>\n",
       "      <td>1.567724</td>\n",
       "    </tr>\n",
       "    <tr>\n",
       "      <th>max</th>\n",
       "      <td>2.240893</td>\n",
       "    </tr>\n",
       "  </tbody>\n",
       "</table>\n",
       "</div>"
      ],
      "text/plain": [
       "               s\n",
       "count  10.000000\n",
       "mean    0.738023\n",
       "std     1.019391\n",
       "min    -0.977278\n",
       "25%     0.022625\n",
       "50%     0.680343\n",
       "75%     1.567724\n",
       "max     2.240893"
      ]
     },
     "execution_count": 5,
     "metadata": {},
     "output_type": "execute_result"
    },
    {
     "name": "stdout",
     "output_type": "stream",
     "text": [
      "In [5] used 0.5547 MiB RAM in 0.12s, peaked 0.00 MiB above current, total RAM usage 98.32 MiB\n"
     ]
    }
   ],
   "source": [
    "data = pd.DataFrame(data={'s': s})\n",
    "data.describe()"
   ]
  },
  {
   "cell_type": "markdown",
   "metadata": {},
   "source": [
    "* binomial"
   ]
  },
  {
   "cell_type": "code",
   "execution_count": 6,
   "metadata": {
    "collapsed": false
   },
   "outputs": [
    {
     "name": "stdout",
     "output_type": "stream",
     "text": [
      "In [6] used 0.2148 MiB RAM in 0.11s, peaked 0.00 MiB above current, total RAM usage 98.53 MiB\n"
     ]
    }
   ],
   "source": [
    "%matplotlib inline"
   ]
  },
  {
   "cell_type": "code",
   "execution_count": 7,
   "metadata": {
    "collapsed": false
   },
   "outputs": [
    {
     "name": "stderr",
     "output_type": "stream",
     "text": [
      "/Users/1003946/anaconda2/lib/python2.7/site-packages/ipykernel/__main__.py:8: MatplotlibDeprecationWarning: pyplot.hold is deprecated.\n",
      "    Future behavior will be consistent with the long-time default:\n",
      "    plot commands add elements without first clearing the\n",
      "    Axes and/or Figure.\n",
      "/Users/1003946/anaconda2/lib/python2.7/site-packages/matplotlib/__init__.py:917: UserWarning: axes.hold is deprecated. Please remove it from your matplotlibrc and/or style files.\n",
      "  warnings.warn(self.msg_depr_set % key)\n",
      "/Users/1003946/anaconda2/lib/python2.7/site-packages/matplotlib/rcsetup.py:152: UserWarning: axes.hold is deprecated, will be removed in 3.0\n",
      "  warnings.warn(\"axes.hold is deprecated, will be removed in 3.0\")\n"
     ]
    },
    {
     "data": {
      "text/plain": [
       "<matplotlib.text.Text at 0x115bf6050>"
      ]
     },
     "execution_count": 7,
     "metadata": {},
     "output_type": "execute_result"
    },
    {
     "data": {
      "image/png": "[encoded data removed]",
      "text/plain": [
       "<matplotlib.figure.Figure at 0x1128bef10>"
      ]
     },
     "metadata": {},
     "output_type": "display_data"
    },
    {
     "name": "stdout",
     "output_type": "stream",
     "text": [
      "In [7] used 7.2305 MiB RAM in 0.41s, peaked 0.00 MiB above current, total RAM usage 105.76 MiB\n"
     ]
    }
   ],
   "source": [
    "bd1 = sp.stats.binom(40, 0.3)\n",
    "bd2 = sp.stats.binom(40, 0.5)\n",
    "bd3 = sp.stats.binom(40, 0.7)\n",
    "\n",
    "k = np.arange(40)\n",
    "\n",
    "plt.plot(k, bd1.pmf(k), 'o-b')\n",
    "plt.hold(True)\n",
    "plt.plot(k, bd2.pmf(k), 'd-r')\n",
    "plt.plot(k, bd3.pmf(k), 's-g')\n",
    "plt.title('Binomial distribution')\n",
    "plt.legend(['p=0.3 and n=40', 'p=0.5 and n=40', 'p=0.7 and n=40'])\n",
    "plt.xlabel('X')\n",
    "plt.ylabel('P(X)')"
   ]
  },
  {
   "cell_type": "code",
   "execution_count": 8,
   "metadata": {
    "collapsed": false
   },
   "outputs": [
    {
     "data": {
      "image/png": "[encoded data removed]",
      "text/plain": [
       "<matplotlib.figure.Figure at 0x112878810>"
      ]
     },
     "metadata": {},
     "output_type": "display_data"
    },
    {
     "name": "stdout",
     "output_type": "stream",
     "text": [
      "In [8] used 2.9531 MiB RAM in 0.28s, peaked 0.00 MiB above current, total RAM usage 108.71 MiB\n"
     ]
    }
   ],
   "source": [
    "def binom_cdf(n, p):\n",
    "    x = np.arange(sp.stats.binom.ppf(0.01, n, p),\n",
    "                  sp.stats.binom.ppf(0.99, n, p))\n",
    "    \n",
    "    y = sp.stats.binom.cdf(x, n, p)\n",
    "    plt.plot(x, y, color='black')\n",
    "    plt.xlabel('Variate')\n",
    "    plt.ylabel('Cumulative Probability')\n",
    "    plt.title('CDF for Binomial of observation = {0} & success probability = {1}'.format(n, p))\n",
    "    \n",
    "    \n",
    "binom_cdf(40, 0.3)"
   ]
  },
  {
   "cell_type": "markdown",
   "metadata": {},
   "source": [
    "* normal distribution"
   ]
  },
  {
   "cell_type": "code",
   "execution_count": 9,
   "metadata": {
    "collapsed": false
   },
   "outputs": [
    {
     "data": {
      "text/plain": [
       "<matplotlib.text.Text at 0x115ea9f90>"
      ]
     },
     "execution_count": 9,
     "metadata": {},
     "output_type": "execute_result"
    },
    {
     "data": {
      "image/png": "[encoded data removed]",
      "text/plain": [
       "<matplotlib.figure.Figure at 0x115e733d0>"
      ]
     },
     "metadata": {},
     "output_type": "display_data"
    },
    {
     "name": "stdout",
     "output_type": "stream",
     "text": [
      "In [9] used 2.2383 MiB RAM in 0.28s, peaked 0.00 MiB above current, total RAM usage 110.95 MiB\n"
     ]
    }
   ],
   "source": [
    "x = np.arange(-10, 10, 0.1)\n",
    "n1 = sp.stats.norm(0, 1)\n",
    "plt.plot(x, n1.pdf(x))\n",
    "plt.xlim([-10, 10])\n",
    "plt.title('Normal Distribution - PDF')"
   ]
  },
  {
   "cell_type": "code",
   "execution_count": 10,
   "metadata": {
    "collapsed": false
   },
   "outputs": [
    {
     "data": {
      "image/png": "[encoded data removed]",
      "text/plain": [
       "<matplotlib.figure.Figure at 0x115f7d750>"
      ]
     },
     "metadata": {},
     "output_type": "display_data"
    },
    {
     "name": "stdout",
     "output_type": "stream",
     "text": [
      "In [10] used 2.6914 MiB RAM in 0.27s, peaked 0.00 MiB above current, total RAM usage 113.64 MiB\n"
     ]
    }
   ],
   "source": [
    "def norm_cdf(mean=0, std=1):\n",
    "    x = sp.linspace(-3*std, 3*std, 50)\n",
    "    y = sp.stats.norm.cdf(x, loc=mean, scale=std)\n",
    "    plt.plot(x, y, color='black')\n",
    "    plt.xlabel('Variate')\n",
    "    plt.ylabel('Cumulative Probability')\n",
    "    plt.title('CDF for Normal Distribution of mean = {0} & std. deviation = {1}'.format(mean, std))\n",
    "    \n",
    "    \n",
    "norm_cdf()"
   ]
  },
  {
   "cell_type": "markdown",
   "metadata": {},
   "source": [
    "* data imputation"
   ]
  },
  {
   "cell_type": "code",
   "execution_count": 11,
   "metadata": {
    "collapsed": false
   },
   "outputs": [
    {
     "name": "stdout",
     "output_type": "stream",
     "text": [
      "(506, 13)\n",
      "In [11] used 3.6641 MiB RAM in 0.24s, peaked 0.00 MiB above current, total RAM usage 117.31 MiB\n"
     ]
    },
    {
     "name": "stderr",
     "output_type": "stream",
     "text": [
      "/Users/1003946/anaconda2/lib/python2.7/site-packages/sklearn/cross_validation.py:44: DeprecationWarning: This module was deprecated in version 0.18 in favor of the model_selection module into which all the refactored classes and functions are moved. Also note that the interface of the new CV iterators are different from that of this module. This module will be removed in 0.20.\n",
      "  \"This module will be removed in 0.20.\", DeprecationWarning)\n"
     ]
    }
   ],
   "source": [
    "from sklearn.datasets import load_boston\n",
    "from sklearn.preprocessing import Imputer\n",
    "from sklearn.ensemble import RandomForestRegressor\n",
    "from sklearn.pipeline import Pipeline\n",
    "from sklearn.cross_validation import cross_val_score\n",
    "\n",
    "dataset = load_boston()\n",
    "rng = np.random.RandomState(0)\n",
    "X_full, y_full = dataset.data, dataset.target\n",
    "n_samples = X_full.shape[0]\n",
    "n_features = X_full.shape[1]\n",
    "\n",
    "print(n_samples, n_features)"
   ]
  },
  {
   "cell_type": "code",
   "execution_count": 12,
   "metadata": {
    "collapsed": false,
    "scrolled": false
   },
   "outputs": [
    {
     "name": "stdout",
     "output_type": "stream",
     "text": [
      "Score with the entire dataset = 0.56\n",
      "In [12] used 5.1875 MiB RAM in 1.37s, peaked 0.00 MiB above current, total RAM usage 122.50 MiB\n"
     ]
    },
    {
     "name": "stderr",
     "output_type": "stream",
     "text": [
      "/Users/1003946/anaconda2/lib/python2.7/site-packages/ipykernel/__main__.py:10: VisibleDeprecationWarning: using a non-integer number instead of an integer will result in an error in the future\n",
      "/Users/1003946/anaconda2/lib/python2.7/site-packages/numpy/core/numeric.py:190: VisibleDeprecationWarning: using a non-integer number instead of an integer will result in an error in the future\n",
      "  a = empty(shape, dtype, order)\n",
      "/Users/1003946/anaconda2/lib/python2.7/site-packages/ipykernel/__main__.py:13: VisibleDeprecationWarning: using a non-integer number instead of an integer will result in an error in the future\n"
     ]
    }
   ],
   "source": [
    "# Estimate the score on the entire dataset, with no missing values\n",
    "estimator = RandomForestRegressor(random_state=0, n_estimators=100)\n",
    "score = cross_val_score(estimator, X_full, y_full).mean()\n",
    "print(\"Score with the entire dataset = %.2f\" % score)\n",
    "\n",
    "# Add missing values in 75% of the lines\n",
    "missing_rate = 0.75\n",
    "n_missing_samples = np.floor(n_samples * missing_rate)\n",
    "missing_samples = np.hstack((np.zeros(n_samples - n_missing_samples,\n",
    "                                      dtype=np.bool),\n",
    "                             np.ones(n_missing_samples, dtype=np.bool)))\n",
    "rng.shuffle(missing_samples)\n",
    "missing_features = rng.randint(0, n_features, n_missing_samples)"
   ]
  },
  {
   "cell_type": "code",
   "execution_count": 23,
   "metadata": {
    "collapsed": false
   },
   "outputs": [
    {
     "name": "stdout",
     "output_type": "stream",
     "text": [
      "Score without the samples containing missing values = 0.48\n",
      "Score after imputation of the missing values = 0.51\n",
      "In [23] used 2.4375 MiB RAM in 2.10s, peaked 0.00 MiB above current, total RAM usage 129.57 MiB\n"
     ]
    }
   ],
   "source": [
    "# Estimate the score without the lines containing missing values\n",
    "X_filtered = X_full[~missing_samples, :]\n",
    "y_filtered = y_full[~missing_samples]\n",
    "estimator = RandomForestRegressor(random_state=0, n_estimators=100)\n",
    "score = cross_val_score(estimator, X_filtered, y_filtered).mean()\n",
    "print(\"Score without the samples containing missing values = %.2f\" % score)\n",
    "\n",
    "# Estimate the score after imputation of the missing values\n",
    "X_missing = X_full.copy()\n",
    "X_missing[np.where(missing_samples)[0], missing_features] = 0\n",
    "y_missing = y_full.copy()\n",
    "estomator = Pipeline([(\"imputer\", Imputer(missing_values=0,\n",
    "                                          strategy=\"mean\", axis=0)),\n",
    "                      (\"forest\", RandomForestRegressor(random_state=0,\n",
    "                                                       n_estimators=100))])\n",
    "score = cross_val_score(estimator, X_missing, y_missing).mean()\n",
    "print(\"Score after imputation of the missing values = %.2f\" % score)"
   ]
  }
 ],
 "metadata": {
  "kernelspec": {
   "display_name": "Python 2",
   "language": "python",
   "name": "python2"
  },
  "language_info": {
   "codemirror_mode": {
    "name": "ipython",
    "version": 2
   },
   "file_extension": ".py",
   "mimetype": "text/x-python",
   "name": "python",
   "nbconvert_exporter": "python",
   "pygments_lexer": "ipython2",
   "version": "2.7.13"
  }
 },
 "nbformat": 4,
 "nbformat_minor": 2
}
